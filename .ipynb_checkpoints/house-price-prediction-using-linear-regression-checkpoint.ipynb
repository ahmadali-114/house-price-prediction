{
 "cells": [
  {
   "cell_type": "code",
   "execution_count": 1,
   "metadata": {
    "_cell_guid": "b1076dfc-b9ad-4769-8c92-a6c4dae69d19",
    "_uuid": "8f2839f25d086af736a60e9eeb907d3b93b6e0e5",
    "execution": {
     "iopub.execute_input": "2020-11-14T12:26:30.773874Z",
     "iopub.status.busy": "2020-11-14T12:26:30.773063Z",
     "iopub.status.idle": "2020-11-14T12:26:31.848109Z",
     "shell.execute_reply": "2020-11-14T12:26:31.848817Z"
    },
    "papermill": {
     "duration": 1.162002,
     "end_time": "2020-11-14T12:26:31.849034",
     "exception": false,
     "start_time": "2020-11-14T12:26:30.687032",
     "status": "completed"
    },
    "tags": []
   },
   "outputs": [
    {
     "name": "stdout",
     "output_type": "stream",
     "text": [
      "/kaggle/input/housedata/output.csv\n",
      "/kaggle/input/housedata/data.csv\n",
      "/kaggle/input/housedata/data.dat\n"
     ]
    }
   ],
   "source": [
    "# This Python 3 environment comes with many helpful analytics libraries installed\n",
    "# It is defined by the kaggle/python Docker image: https://github.com/kaggle/docker-python\n",
    "# For example, here's several helpful packages to load\n",
    "\n",
    "import numpy as np # linear algebra\n",
    "import pandas as pd # data processing, CSV file I/O (e.g. pd.read_csv)\n",
    "\n",
    "import matplotlib.pyplot  as plt\n",
    "import seaborn as sns\n",
    "%matplotlib inline\n",
    "\n",
    "# Input data files are available in the read-only \"../input/\" directory\n",
    "# For example, running this (by clicking run or pressing Shift+Enter) will list all files under the input directory\n",
    "\n",
    "import os\n",
    "for dirname, _, filenames in os.walk('/kaggle/input'):\n",
    "    for filename in filenames:\n",
    "        print(os.path.join(dirname, filename))\n",
    "\n",
    "# You can write up to 5GB to the current directory (/kaggle/working/) that gets preserved as output when you create a version using \"Save & Run All\" \n",
    "# You can also write temporary files to /kaggle/temp/, but they won't be saved outside of the current session"
   ]
  },
  {
   "cell_type": "markdown",
   "metadata": {
    "papermill": {
     "duration": 0.078937,
     "end_time": "2020-11-14T12:26:32.004951",
     "exception": false,
     "start_time": "2020-11-14T12:26:31.926014",
     "status": "completed"
    },
    "tags": []
   },
   "source": [
    "# Data Exploration"
   ]
  },
  {
   "cell_type": "markdown",
   "metadata": {
    "papermill": {
     "duration": 0.07619,
     "end_time": "2020-11-14T12:26:32.157769",
     "exception": false,
     "start_time": "2020-11-14T12:26:32.081579",
     "status": "completed"
    },
    "tags": []
   },
   "source": [
    "**Loading Dataset**"
   ]
  },
  {
   "cell_type": "code",
   "execution_count": 2,
   "metadata": {
    "_cell_guid": "79c7e3d0-c299-4dcb-8224-4455121ee9b0",
    "_uuid": "d629ff2d2480ee46fbb7e2d37f6b5fab8052498a",
    "execution": {
     "iopub.execute_input": "2020-11-14T12:26:32.315528Z",
     "iopub.status.busy": "2020-11-14T12:26:32.314771Z",
     "iopub.status.idle": "2020-11-14T12:26:32.372838Z",
     "shell.execute_reply": "2020-11-14T12:26:32.372110Z"
    },
    "papermill": {
     "duration": 0.140534,
     "end_time": "2020-11-14T12:26:32.373008",
     "exception": false,
     "start_time": "2020-11-14T12:26:32.232474",
     "status": "completed"
    },
    "tags": []
   },
   "outputs": [
    {
     "name": "stdout",
     "output_type": "stream",
     "text": [
      "<class 'pandas.core.frame.DataFrame'>\n",
      "RangeIndex: 4600 entries, 0 to 4599\n",
      "Data columns (total 18 columns):\n",
      " #   Column         Non-Null Count  Dtype  \n",
      "---  ------         --------------  -----  \n",
      " 0   date           4600 non-null   object \n",
      " 1   price          4600 non-null   float64\n",
      " 2   bedrooms       4600 non-null   float64\n",
      " 3   bathrooms      4600 non-null   float64\n",
      " 4   sqft_living    4600 non-null   int64  \n",
      " 5   sqft_lot       4600 non-null   int64  \n",
      " 6   floors         4600 non-null   float64\n",
      " 7   waterfront     4600 non-null   int64  \n",
      " 8   view           4600 non-null   int64  \n",
      " 9   condition      4600 non-null   int64  \n",
      " 10  sqft_above     4600 non-null   int64  \n",
      " 11  sqft_basement  4600 non-null   int64  \n",
      " 12  yr_built       4600 non-null   int64  \n",
      " 13  yr_renovated   4600 non-null   int64  \n",
      " 14  street         4600 non-null   object \n",
      " 15  city           4600 non-null   object \n",
      " 16  statezip       4600 non-null   object \n",
      " 17  country        4600 non-null   object \n",
      "dtypes: float64(4), int64(9), object(5)\n",
      "memory usage: 647.0+ KB\n"
     ]
    }
   ],
   "source": [
    "dataset = pd.read_csv('../input/housedata/data.csv')\n",
    "dataset.info()"
   ]
  },
  {
   "cell_type": "code",
   "execution_count": 3,
   "metadata": {
    "execution": {
     "iopub.execute_input": "2020-11-14T12:26:32.531679Z",
     "iopub.status.busy": "2020-11-14T12:26:32.530793Z",
     "iopub.status.idle": "2020-11-14T12:26:32.535183Z",
     "shell.execute_reply": "2020-11-14T12:26:32.534516Z"
    },
    "papermill": {
     "duration": 0.087061,
     "end_time": "2020-11-14T12:26:32.535308",
     "exception": false,
     "start_time": "2020-11-14T12:26:32.448247",
     "status": "completed"
    },
    "tags": []
   },
   "outputs": [
    {
     "data": {
      "text/plain": [
       "(4600, 18)"
      ]
     },
     "execution_count": 3,
     "metadata": {},
     "output_type": "execute_result"
    }
   ],
   "source": [
    "dataset.shape"
   ]
  },
  {
   "cell_type": "code",
   "execution_count": 4,
   "metadata": {
    "execution": {
     "iopub.execute_input": "2020-11-14T12:26:32.700999Z",
     "iopub.status.busy": "2020-11-14T12:26:32.700227Z",
     "iopub.status.idle": "2020-11-14T12:26:32.715502Z",
     "shell.execute_reply": "2020-11-14T12:26:32.714921Z"
    },
    "papermill": {
     "duration": 0.104542,
     "end_time": "2020-11-14T12:26:32.715648",
     "exception": false,
     "start_time": "2020-11-14T12:26:32.611106",
     "status": "completed"
    },
    "tags": []
   },
   "outputs": [
    {
     "data": {
      "text/html": [
       "<div>\n",
       "<style scoped>\n",
       "    .dataframe tbody tr th:only-of-type {\n",
       "        vertical-align: middle;\n",
       "    }\n",
       "\n",
       "    .dataframe tbody tr th {\n",
       "        vertical-align: top;\n",
       "    }\n",
       "\n",
       "    .dataframe thead th {\n",
       "        text-align: right;\n",
       "    }\n",
       "</style>\n",
       "<table border=\"1\" class=\"dataframe\">\n",
       "  <thead>\n",
       "    <tr style=\"text-align: right;\">\n",
       "      <th></th>\n",
       "      <th>date</th>\n",
       "      <th>price</th>\n",
       "      <th>bedrooms</th>\n",
       "      <th>bathrooms</th>\n",
       "      <th>sqft_living</th>\n",
       "      <th>sqft_lot</th>\n",
       "      <th>floors</th>\n",
       "      <th>waterfront</th>\n",
       "      <th>view</th>\n",
       "      <th>condition</th>\n",
       "      <th>sqft_above</th>\n",
       "      <th>sqft_basement</th>\n",
       "      <th>yr_built</th>\n",
       "      <th>yr_renovated</th>\n",
       "      <th>street</th>\n",
       "      <th>city</th>\n",
       "      <th>statezip</th>\n",
       "      <th>country</th>\n",
       "    </tr>\n",
       "  </thead>\n",
       "  <tbody>\n",
       "    <tr>\n",
       "      <th>0</th>\n",
       "      <td>2014-05-02 00:00:00</td>\n",
       "      <td>313000.0</td>\n",
       "      <td>3.0</td>\n",
       "      <td>1.50</td>\n",
       "      <td>1340</td>\n",
       "      <td>7912</td>\n",
       "      <td>1.5</td>\n",
       "      <td>0</td>\n",
       "      <td>0</td>\n",
       "      <td>3</td>\n",
       "      <td>1340</td>\n",
       "      <td>0</td>\n",
       "      <td>1955</td>\n",
       "      <td>2005</td>\n",
       "      <td>18810 Densmore Ave N</td>\n",
       "      <td>Shoreline</td>\n",
       "      <td>WA 98133</td>\n",
       "      <td>USA</td>\n",
       "    </tr>\n",
       "    <tr>\n",
       "      <th>1</th>\n",
       "      <td>2014-05-02 00:00:00</td>\n",
       "      <td>2384000.0</td>\n",
       "      <td>5.0</td>\n",
       "      <td>2.50</td>\n",
       "      <td>3650</td>\n",
       "      <td>9050</td>\n",
       "      <td>2.0</td>\n",
       "      <td>0</td>\n",
       "      <td>4</td>\n",
       "      <td>5</td>\n",
       "      <td>3370</td>\n",
       "      <td>280</td>\n",
       "      <td>1921</td>\n",
       "      <td>0</td>\n",
       "      <td>709 W Blaine St</td>\n",
       "      <td>Seattle</td>\n",
       "      <td>WA 98119</td>\n",
       "      <td>USA</td>\n",
       "    </tr>\n",
       "    <tr>\n",
       "      <th>2</th>\n",
       "      <td>2014-05-02 00:00:00</td>\n",
       "      <td>342000.0</td>\n",
       "      <td>3.0</td>\n",
       "      <td>2.00</td>\n",
       "      <td>1930</td>\n",
       "      <td>11947</td>\n",
       "      <td>1.0</td>\n",
       "      <td>0</td>\n",
       "      <td>0</td>\n",
       "      <td>4</td>\n",
       "      <td>1930</td>\n",
       "      <td>0</td>\n",
       "      <td>1966</td>\n",
       "      <td>0</td>\n",
       "      <td>26206-26214 143rd Ave SE</td>\n",
       "      <td>Kent</td>\n",
       "      <td>WA 98042</td>\n",
       "      <td>USA</td>\n",
       "    </tr>\n",
       "    <tr>\n",
       "      <th>3</th>\n",
       "      <td>2014-05-02 00:00:00</td>\n",
       "      <td>420000.0</td>\n",
       "      <td>3.0</td>\n",
       "      <td>2.25</td>\n",
       "      <td>2000</td>\n",
       "      <td>8030</td>\n",
       "      <td>1.0</td>\n",
       "      <td>0</td>\n",
       "      <td>0</td>\n",
       "      <td>4</td>\n",
       "      <td>1000</td>\n",
       "      <td>1000</td>\n",
       "      <td>1963</td>\n",
       "      <td>0</td>\n",
       "      <td>857 170th Pl NE</td>\n",
       "      <td>Bellevue</td>\n",
       "      <td>WA 98008</td>\n",
       "      <td>USA</td>\n",
       "    </tr>\n",
       "    <tr>\n",
       "      <th>4</th>\n",
       "      <td>2014-05-02 00:00:00</td>\n",
       "      <td>550000.0</td>\n",
       "      <td>4.0</td>\n",
       "      <td>2.50</td>\n",
       "      <td>1940</td>\n",
       "      <td>10500</td>\n",
       "      <td>1.0</td>\n",
       "      <td>0</td>\n",
       "      <td>0</td>\n",
       "      <td>4</td>\n",
       "      <td>1140</td>\n",
       "      <td>800</td>\n",
       "      <td>1976</td>\n",
       "      <td>1992</td>\n",
       "      <td>9105 170th Ave NE</td>\n",
       "      <td>Redmond</td>\n",
       "      <td>WA 98052</td>\n",
       "      <td>USA</td>\n",
       "    </tr>\n",
       "  </tbody>\n",
       "</table>\n",
       "</div>"
      ],
      "text/plain": [
       "                  date      price  bedrooms  bathrooms  sqft_living  sqft_lot  \\\n",
       "0  2014-05-02 00:00:00   313000.0       3.0       1.50         1340      7912   \n",
       "1  2014-05-02 00:00:00  2384000.0       5.0       2.50         3650      9050   \n",
       "2  2014-05-02 00:00:00   342000.0       3.0       2.00         1930     11947   \n",
       "3  2014-05-02 00:00:00   420000.0       3.0       2.25         2000      8030   \n",
       "4  2014-05-02 00:00:00   550000.0       4.0       2.50         1940     10500   \n",
       "\n",
       "   floors  waterfront  view  condition  sqft_above  sqft_basement  yr_built  \\\n",
       "0     1.5           0     0          3        1340              0      1955   \n",
       "1     2.0           0     4          5        3370            280      1921   \n",
       "2     1.0           0     0          4        1930              0      1966   \n",
       "3     1.0           0     0          4        1000           1000      1963   \n",
       "4     1.0           0     0          4        1140            800      1976   \n",
       "\n",
       "   yr_renovated                    street       city  statezip country  \n",
       "0          2005      18810 Densmore Ave N  Shoreline  WA 98133     USA  \n",
       "1             0           709 W Blaine St    Seattle  WA 98119     USA  \n",
       "2             0  26206-26214 143rd Ave SE       Kent  WA 98042     USA  \n",
       "3             0           857 170th Pl NE   Bellevue  WA 98008     USA  \n",
       "4          1992         9105 170th Ave NE    Redmond  WA 98052     USA  "
      ]
     },
     "execution_count": 4,
     "metadata": {},
     "output_type": "execute_result"
    }
   ],
   "source": [
    "dataset.head()"
   ]
  },
  {
   "cell_type": "markdown",
   "metadata": {
    "papermill": {
     "duration": 0.076341,
     "end_time": "2020-11-14T12:26:32.868039",
     "exception": false,
     "start_time": "2020-11-14T12:26:32.791698",
     "status": "completed"
    },
    "tags": []
   },
   "source": [
    "**Delete date column** Date column is irrelevant"
   ]
  },
  {
   "cell_type": "code",
   "execution_count": 5,
   "metadata": {
    "execution": {
     "iopub.execute_input": "2020-11-14T12:26:33.048553Z",
     "iopub.status.busy": "2020-11-14T12:26:33.047711Z",
     "iopub.status.idle": "2020-11-14T12:26:33.051691Z",
     "shell.execute_reply": "2020-11-14T12:26:33.052218Z"
    },
    "papermill": {
     "duration": 0.106837,
     "end_time": "2020-11-14T12:26:33.052389",
     "exception": false,
     "start_time": "2020-11-14T12:26:32.945552",
     "status": "completed"
    },
    "tags": []
   },
   "outputs": [
    {
     "data": {
      "text/html": [
       "<div>\n",
       "<style scoped>\n",
       "    .dataframe tbody tr th:only-of-type {\n",
       "        vertical-align: middle;\n",
       "    }\n",
       "\n",
       "    .dataframe tbody tr th {\n",
       "        vertical-align: top;\n",
       "    }\n",
       "\n",
       "    .dataframe thead th {\n",
       "        text-align: right;\n",
       "    }\n",
       "</style>\n",
       "<table border=\"1\" class=\"dataframe\">\n",
       "  <thead>\n",
       "    <tr style=\"text-align: right;\">\n",
       "      <th></th>\n",
       "      <th>price</th>\n",
       "      <th>bedrooms</th>\n",
       "      <th>bathrooms</th>\n",
       "      <th>sqft_living</th>\n",
       "      <th>sqft_lot</th>\n",
       "      <th>floors</th>\n",
       "      <th>waterfront</th>\n",
       "      <th>view</th>\n",
       "      <th>condition</th>\n",
       "      <th>sqft_above</th>\n",
       "      <th>sqft_basement</th>\n",
       "      <th>yr_built</th>\n",
       "      <th>yr_renovated</th>\n",
       "      <th>street</th>\n",
       "      <th>city</th>\n",
       "      <th>statezip</th>\n",
       "      <th>country</th>\n",
       "    </tr>\n",
       "  </thead>\n",
       "  <tbody>\n",
       "    <tr>\n",
       "      <th>0</th>\n",
       "      <td>313000.0</td>\n",
       "      <td>3.0</td>\n",
       "      <td>1.50</td>\n",
       "      <td>1340</td>\n",
       "      <td>7912</td>\n",
       "      <td>1.5</td>\n",
       "      <td>0</td>\n",
       "      <td>0</td>\n",
       "      <td>3</td>\n",
       "      <td>1340</td>\n",
       "      <td>0</td>\n",
       "      <td>1955</td>\n",
       "      <td>2005</td>\n",
       "      <td>18810 Densmore Ave N</td>\n",
       "      <td>Shoreline</td>\n",
       "      <td>WA 98133</td>\n",
       "      <td>USA</td>\n",
       "    </tr>\n",
       "    <tr>\n",
       "      <th>1</th>\n",
       "      <td>2384000.0</td>\n",
       "      <td>5.0</td>\n",
       "      <td>2.50</td>\n",
       "      <td>3650</td>\n",
       "      <td>9050</td>\n",
       "      <td>2.0</td>\n",
       "      <td>0</td>\n",
       "      <td>4</td>\n",
       "      <td>5</td>\n",
       "      <td>3370</td>\n",
       "      <td>280</td>\n",
       "      <td>1921</td>\n",
       "      <td>0</td>\n",
       "      <td>709 W Blaine St</td>\n",
       "      <td>Seattle</td>\n",
       "      <td>WA 98119</td>\n",
       "      <td>USA</td>\n",
       "    </tr>\n",
       "    <tr>\n",
       "      <th>2</th>\n",
       "      <td>342000.0</td>\n",
       "      <td>3.0</td>\n",
       "      <td>2.00</td>\n",
       "      <td>1930</td>\n",
       "      <td>11947</td>\n",
       "      <td>1.0</td>\n",
       "      <td>0</td>\n",
       "      <td>0</td>\n",
       "      <td>4</td>\n",
       "      <td>1930</td>\n",
       "      <td>0</td>\n",
       "      <td>1966</td>\n",
       "      <td>0</td>\n",
       "      <td>26206-26214 143rd Ave SE</td>\n",
       "      <td>Kent</td>\n",
       "      <td>WA 98042</td>\n",
       "      <td>USA</td>\n",
       "    </tr>\n",
       "    <tr>\n",
       "      <th>3</th>\n",
       "      <td>420000.0</td>\n",
       "      <td>3.0</td>\n",
       "      <td>2.25</td>\n",
       "      <td>2000</td>\n",
       "      <td>8030</td>\n",
       "      <td>1.0</td>\n",
       "      <td>0</td>\n",
       "      <td>0</td>\n",
       "      <td>4</td>\n",
       "      <td>1000</td>\n",
       "      <td>1000</td>\n",
       "      <td>1963</td>\n",
       "      <td>0</td>\n",
       "      <td>857 170th Pl NE</td>\n",
       "      <td>Bellevue</td>\n",
       "      <td>WA 98008</td>\n",
       "      <td>USA</td>\n",
       "    </tr>\n",
       "    <tr>\n",
       "      <th>4</th>\n",
       "      <td>550000.0</td>\n",
       "      <td>4.0</td>\n",
       "      <td>2.50</td>\n",
       "      <td>1940</td>\n",
       "      <td>10500</td>\n",
       "      <td>1.0</td>\n",
       "      <td>0</td>\n",
       "      <td>0</td>\n",
       "      <td>4</td>\n",
       "      <td>1140</td>\n",
       "      <td>800</td>\n",
       "      <td>1976</td>\n",
       "      <td>1992</td>\n",
       "      <td>9105 170th Ave NE</td>\n",
       "      <td>Redmond</td>\n",
       "      <td>WA 98052</td>\n",
       "      <td>USA</td>\n",
       "    </tr>\n",
       "  </tbody>\n",
       "</table>\n",
       "</div>"
      ],
      "text/plain": [
       "       price  bedrooms  bathrooms  sqft_living  sqft_lot  floors  waterfront  \\\n",
       "0   313000.0       3.0       1.50         1340      7912     1.5           0   \n",
       "1  2384000.0       5.0       2.50         3650      9050     2.0           0   \n",
       "2   342000.0       3.0       2.00         1930     11947     1.0           0   \n",
       "3   420000.0       3.0       2.25         2000      8030     1.0           0   \n",
       "4   550000.0       4.0       2.50         1940     10500     1.0           0   \n",
       "\n",
       "   view  condition  sqft_above  sqft_basement  yr_built  yr_renovated  \\\n",
       "0     0          3        1340              0      1955          2005   \n",
       "1     4          5        3370            280      1921             0   \n",
       "2     0          4        1930              0      1966             0   \n",
       "3     0          4        1000           1000      1963             0   \n",
       "4     0          4        1140            800      1976          1992   \n",
       "\n",
       "                     street       city  statezip country  \n",
       "0      18810 Densmore Ave N  Shoreline  WA 98133     USA  \n",
       "1           709 W Blaine St    Seattle  WA 98119     USA  \n",
       "2  26206-26214 143rd Ave SE       Kent  WA 98042     USA  \n",
       "3           857 170th Pl NE   Bellevue  WA 98008     USA  \n",
       "4         9105 170th Ave NE    Redmond  WA 98052     USA  "
      ]
     },
     "execution_count": 5,
     "metadata": {},
     "output_type": "execute_result"
    }
   ],
   "source": [
    "dataset.drop(['date'], axis = 1, inplace = True)\n",
    "dataset.head()"
   ]
  },
  {
   "cell_type": "markdown",
   "metadata": {
    "papermill": {
     "duration": 0.076967,
     "end_time": "2020-11-14T12:26:33.207545",
     "exception": false,
     "start_time": "2020-11-14T12:26:33.130578",
     "status": "completed"
    },
    "tags": []
   },
   "source": [
    "**Checking how many different Countries are there**"
   ]
  },
  {
   "cell_type": "code",
   "execution_count": 6,
   "metadata": {
    "execution": {
     "iopub.execute_input": "2020-11-14T12:26:33.371052Z",
     "iopub.status.busy": "2020-11-14T12:26:33.370102Z",
     "iopub.status.idle": "2020-11-14T12:26:33.374689Z",
     "shell.execute_reply": "2020-11-14T12:26:33.373963Z"
    },
    "papermill": {
     "duration": 0.090359,
     "end_time": "2020-11-14T12:26:33.374813",
     "exception": false,
     "start_time": "2020-11-14T12:26:33.284454",
     "status": "completed"
    },
    "tags": []
   },
   "outputs": [
    {
     "data": {
      "text/plain": [
       "USA    4600\n",
       "Name: country, dtype: int64"
      ]
     },
     "execution_count": 6,
     "metadata": {},
     "output_type": "execute_result"
    }
   ],
   "source": [
    "dataset.country.value_counts()"
   ]
  },
  {
   "cell_type": "markdown",
   "metadata": {
    "papermill": {
     "duration": 0.077177,
     "end_time": "2020-11-14T12:26:33.529563",
     "exception": false,
     "start_time": "2020-11-14T12:26:33.452386",
     "status": "completed"
    },
    "tags": []
   },
   "source": [
    "Deleting the country column as all the records have the same country, hence irrelevant"
   ]
  },
  {
   "cell_type": "code",
   "execution_count": 7,
   "metadata": {
    "execution": {
     "iopub.execute_input": "2020-11-14T12:26:33.708427Z",
     "iopub.status.busy": "2020-11-14T12:26:33.707540Z",
     "iopub.status.idle": "2020-11-14T12:26:33.711868Z",
     "shell.execute_reply": "2020-11-14T12:26:33.712421Z"
    },
    "papermill": {
     "duration": 0.105637,
     "end_time": "2020-11-14T12:26:33.712620",
     "exception": false,
     "start_time": "2020-11-14T12:26:33.606983",
     "status": "completed"
    },
    "tags": []
   },
   "outputs": [
    {
     "data": {
      "text/html": [
       "<div>\n",
       "<style scoped>\n",
       "    .dataframe tbody tr th:only-of-type {\n",
       "        vertical-align: middle;\n",
       "    }\n",
       "\n",
       "    .dataframe tbody tr th {\n",
       "        vertical-align: top;\n",
       "    }\n",
       "\n",
       "    .dataframe thead th {\n",
       "        text-align: right;\n",
       "    }\n",
       "</style>\n",
       "<table border=\"1\" class=\"dataframe\">\n",
       "  <thead>\n",
       "    <tr style=\"text-align: right;\">\n",
       "      <th></th>\n",
       "      <th>price</th>\n",
       "      <th>bedrooms</th>\n",
       "      <th>bathrooms</th>\n",
       "      <th>sqft_living</th>\n",
       "      <th>sqft_lot</th>\n",
       "      <th>floors</th>\n",
       "      <th>waterfront</th>\n",
       "      <th>view</th>\n",
       "      <th>condition</th>\n",
       "      <th>sqft_above</th>\n",
       "      <th>sqft_basement</th>\n",
       "      <th>yr_built</th>\n",
       "      <th>yr_renovated</th>\n",
       "      <th>street</th>\n",
       "      <th>city</th>\n",
       "      <th>statezip</th>\n",
       "    </tr>\n",
       "  </thead>\n",
       "  <tbody>\n",
       "    <tr>\n",
       "      <th>0</th>\n",
       "      <td>313000.0</td>\n",
       "      <td>3.0</td>\n",
       "      <td>1.50</td>\n",
       "      <td>1340</td>\n",
       "      <td>7912</td>\n",
       "      <td>1.5</td>\n",
       "      <td>0</td>\n",
       "      <td>0</td>\n",
       "      <td>3</td>\n",
       "      <td>1340</td>\n",
       "      <td>0</td>\n",
       "      <td>1955</td>\n",
       "      <td>2005</td>\n",
       "      <td>18810 Densmore Ave N</td>\n",
       "      <td>Shoreline</td>\n",
       "      <td>WA 98133</td>\n",
       "    </tr>\n",
       "    <tr>\n",
       "      <th>1</th>\n",
       "      <td>2384000.0</td>\n",
       "      <td>5.0</td>\n",
       "      <td>2.50</td>\n",
       "      <td>3650</td>\n",
       "      <td>9050</td>\n",
       "      <td>2.0</td>\n",
       "      <td>0</td>\n",
       "      <td>4</td>\n",
       "      <td>5</td>\n",
       "      <td>3370</td>\n",
       "      <td>280</td>\n",
       "      <td>1921</td>\n",
       "      <td>0</td>\n",
       "      <td>709 W Blaine St</td>\n",
       "      <td>Seattle</td>\n",
       "      <td>WA 98119</td>\n",
       "    </tr>\n",
       "    <tr>\n",
       "      <th>2</th>\n",
       "      <td>342000.0</td>\n",
       "      <td>3.0</td>\n",
       "      <td>2.00</td>\n",
       "      <td>1930</td>\n",
       "      <td>11947</td>\n",
       "      <td>1.0</td>\n",
       "      <td>0</td>\n",
       "      <td>0</td>\n",
       "      <td>4</td>\n",
       "      <td>1930</td>\n",
       "      <td>0</td>\n",
       "      <td>1966</td>\n",
       "      <td>0</td>\n",
       "      <td>26206-26214 143rd Ave SE</td>\n",
       "      <td>Kent</td>\n",
       "      <td>WA 98042</td>\n",
       "    </tr>\n",
       "    <tr>\n",
       "      <th>3</th>\n",
       "      <td>420000.0</td>\n",
       "      <td>3.0</td>\n",
       "      <td>2.25</td>\n",
       "      <td>2000</td>\n",
       "      <td>8030</td>\n",
       "      <td>1.0</td>\n",
       "      <td>0</td>\n",
       "      <td>0</td>\n",
       "      <td>4</td>\n",
       "      <td>1000</td>\n",
       "      <td>1000</td>\n",
       "      <td>1963</td>\n",
       "      <td>0</td>\n",
       "      <td>857 170th Pl NE</td>\n",
       "      <td>Bellevue</td>\n",
       "      <td>WA 98008</td>\n",
       "    </tr>\n",
       "    <tr>\n",
       "      <th>4</th>\n",
       "      <td>550000.0</td>\n",
       "      <td>4.0</td>\n",
       "      <td>2.50</td>\n",
       "      <td>1940</td>\n",
       "      <td>10500</td>\n",
       "      <td>1.0</td>\n",
       "      <td>0</td>\n",
       "      <td>0</td>\n",
       "      <td>4</td>\n",
       "      <td>1140</td>\n",
       "      <td>800</td>\n",
       "      <td>1976</td>\n",
       "      <td>1992</td>\n",
       "      <td>9105 170th Ave NE</td>\n",
       "      <td>Redmond</td>\n",
       "      <td>WA 98052</td>\n",
       "    </tr>\n",
       "  </tbody>\n",
       "</table>\n",
       "</div>"
      ],
      "text/plain": [
       "       price  bedrooms  bathrooms  sqft_living  sqft_lot  floors  waterfront  \\\n",
       "0   313000.0       3.0       1.50         1340      7912     1.5           0   \n",
       "1  2384000.0       5.0       2.50         3650      9050     2.0           0   \n",
       "2   342000.0       3.0       2.00         1930     11947     1.0           0   \n",
       "3   420000.0       3.0       2.25         2000      8030     1.0           0   \n",
       "4   550000.0       4.0       2.50         1940     10500     1.0           0   \n",
       "\n",
       "   view  condition  sqft_above  sqft_basement  yr_built  yr_renovated  \\\n",
       "0     0          3        1340              0      1955          2005   \n",
       "1     4          5        3370            280      1921             0   \n",
       "2     0          4        1930              0      1966             0   \n",
       "3     0          4        1000           1000      1963             0   \n",
       "4     0          4        1140            800      1976          1992   \n",
       "\n",
       "                     street       city  statezip  \n",
       "0      18810 Densmore Ave N  Shoreline  WA 98133  \n",
       "1           709 W Blaine St    Seattle  WA 98119  \n",
       "2  26206-26214 143rd Ave SE       Kent  WA 98042  \n",
       "3           857 170th Pl NE   Bellevue  WA 98008  \n",
       "4         9105 170th Ave NE    Redmond  WA 98052  "
      ]
     },
     "execution_count": 7,
     "metadata": {},
     "output_type": "execute_result"
    }
   ],
   "source": [
    "dataset.drop(['country'], axis = 1, inplace = True)\n",
    "dataset.head()"
   ]
  },
  {
   "cell_type": "markdown",
   "metadata": {
    "papermill": {
     "duration": 0.078884,
     "end_time": "2020-11-14T12:26:33.870140",
     "exception": false,
     "start_time": "2020-11-14T12:26:33.791256",
     "status": "completed"
    },
    "tags": []
   },
   "source": [
    "Since we already have statezip, we can safely delete street and city."
   ]
  },
  {
   "cell_type": "code",
   "execution_count": 8,
   "metadata": {
    "execution": {
     "iopub.execute_input": "2020-11-14T12:26:34.053910Z",
     "iopub.status.busy": "2020-11-14T12:26:34.045916Z",
     "iopub.status.idle": "2020-11-14T12:26:34.070524Z",
     "shell.execute_reply": "2020-11-14T12:26:34.069418Z"
    },
    "papermill": {
     "duration": 0.121625,
     "end_time": "2020-11-14T12:26:34.070744",
     "exception": false,
     "start_time": "2020-11-14T12:26:33.949119",
     "status": "completed"
    },
    "tags": []
   },
   "outputs": [
    {
     "data": {
      "text/html": [
       "<div>\n",
       "<style scoped>\n",
       "    .dataframe tbody tr th:only-of-type {\n",
       "        vertical-align: middle;\n",
       "    }\n",
       "\n",
       "    .dataframe tbody tr th {\n",
       "        vertical-align: top;\n",
       "    }\n",
       "\n",
       "    .dataframe thead th {\n",
       "        text-align: right;\n",
       "    }\n",
       "</style>\n",
       "<table border=\"1\" class=\"dataframe\">\n",
       "  <thead>\n",
       "    <tr style=\"text-align: right;\">\n",
       "      <th></th>\n",
       "      <th>price</th>\n",
       "      <th>bedrooms</th>\n",
       "      <th>bathrooms</th>\n",
       "      <th>sqft_living</th>\n",
       "      <th>sqft_lot</th>\n",
       "      <th>floors</th>\n",
       "      <th>waterfront</th>\n",
       "      <th>view</th>\n",
       "      <th>condition</th>\n",
       "      <th>sqft_above</th>\n",
       "      <th>sqft_basement</th>\n",
       "      <th>yr_built</th>\n",
       "      <th>yr_renovated</th>\n",
       "      <th>statezip</th>\n",
       "    </tr>\n",
       "  </thead>\n",
       "  <tbody>\n",
       "    <tr>\n",
       "      <th>0</th>\n",
       "      <td>313000.0</td>\n",
       "      <td>3.0</td>\n",
       "      <td>1.50</td>\n",
       "      <td>1340</td>\n",
       "      <td>7912</td>\n",
       "      <td>1.5</td>\n",
       "      <td>0</td>\n",
       "      <td>0</td>\n",
       "      <td>3</td>\n",
       "      <td>1340</td>\n",
       "      <td>0</td>\n",
       "      <td>1955</td>\n",
       "      <td>2005</td>\n",
       "      <td>WA 98133</td>\n",
       "    </tr>\n",
       "    <tr>\n",
       "      <th>1</th>\n",
       "      <td>2384000.0</td>\n",
       "      <td>5.0</td>\n",
       "      <td>2.50</td>\n",
       "      <td>3650</td>\n",
       "      <td>9050</td>\n",
       "      <td>2.0</td>\n",
       "      <td>0</td>\n",
       "      <td>4</td>\n",
       "      <td>5</td>\n",
       "      <td>3370</td>\n",
       "      <td>280</td>\n",
       "      <td>1921</td>\n",
       "      <td>0</td>\n",
       "      <td>WA 98119</td>\n",
       "    </tr>\n",
       "    <tr>\n",
       "      <th>2</th>\n",
       "      <td>342000.0</td>\n",
       "      <td>3.0</td>\n",
       "      <td>2.00</td>\n",
       "      <td>1930</td>\n",
       "      <td>11947</td>\n",
       "      <td>1.0</td>\n",
       "      <td>0</td>\n",
       "      <td>0</td>\n",
       "      <td>4</td>\n",
       "      <td>1930</td>\n",
       "      <td>0</td>\n",
       "      <td>1966</td>\n",
       "      <td>0</td>\n",
       "      <td>WA 98042</td>\n",
       "    </tr>\n",
       "    <tr>\n",
       "      <th>3</th>\n",
       "      <td>420000.0</td>\n",
       "      <td>3.0</td>\n",
       "      <td>2.25</td>\n",
       "      <td>2000</td>\n",
       "      <td>8030</td>\n",
       "      <td>1.0</td>\n",
       "      <td>0</td>\n",
       "      <td>0</td>\n",
       "      <td>4</td>\n",
       "      <td>1000</td>\n",
       "      <td>1000</td>\n",
       "      <td>1963</td>\n",
       "      <td>0</td>\n",
       "      <td>WA 98008</td>\n",
       "    </tr>\n",
       "    <tr>\n",
       "      <th>4</th>\n",
       "      <td>550000.0</td>\n",
       "      <td>4.0</td>\n",
       "      <td>2.50</td>\n",
       "      <td>1940</td>\n",
       "      <td>10500</td>\n",
       "      <td>1.0</td>\n",
       "      <td>0</td>\n",
       "      <td>0</td>\n",
       "      <td>4</td>\n",
       "      <td>1140</td>\n",
       "      <td>800</td>\n",
       "      <td>1976</td>\n",
       "      <td>1992</td>\n",
       "      <td>WA 98052</td>\n",
       "    </tr>\n",
       "  </tbody>\n",
       "</table>\n",
       "</div>"
      ],
      "text/plain": [
       "       price  bedrooms  bathrooms  sqft_living  sqft_lot  floors  waterfront  \\\n",
       "0   313000.0       3.0       1.50         1340      7912     1.5           0   \n",
       "1  2384000.0       5.0       2.50         3650      9050     2.0           0   \n",
       "2   342000.0       3.0       2.00         1930     11947     1.0           0   \n",
       "3   420000.0       3.0       2.25         2000      8030     1.0           0   \n",
       "4   550000.0       4.0       2.50         1940     10500     1.0           0   \n",
       "\n",
       "   view  condition  sqft_above  sqft_basement  yr_built  yr_renovated  \\\n",
       "0     0          3        1340              0      1955          2005   \n",
       "1     4          5        3370            280      1921             0   \n",
       "2     0          4        1930              0      1966             0   \n",
       "3     0          4        1000           1000      1963             0   \n",
       "4     0          4        1140            800      1976          1992   \n",
       "\n",
       "   statezip  \n",
       "0  WA 98133  \n",
       "1  WA 98119  \n",
       "2  WA 98042  \n",
       "3  WA 98008  \n",
       "4  WA 98052  "
      ]
     },
     "execution_count": 8,
     "metadata": {},
     "output_type": "execute_result"
    }
   ],
   "source": [
    "dataset.drop(['street', 'city'], axis = 1, inplace = True)\n",
    "dataset.head()"
   ]
  },
  {
   "cell_type": "markdown",
   "metadata": {
    "papermill": {
     "duration": 0.080273,
     "end_time": "2020-11-14T12:26:34.243517",
     "exception": false,
     "start_time": "2020-11-14T12:26:34.163244",
     "status": "completed"
    },
    "tags": []
   },
   "source": [
    "**Checking for null values**"
   ]
  },
  {
   "cell_type": "code",
   "execution_count": 9,
   "metadata": {
    "execution": {
     "iopub.execute_input": "2020-11-14T12:26:34.409930Z",
     "iopub.status.busy": "2020-11-14T12:26:34.409151Z",
     "iopub.status.idle": "2020-11-14T12:26:34.416019Z",
     "shell.execute_reply": "2020-11-14T12:26:34.416553Z"
    },
    "papermill": {
     "duration": 0.093731,
     "end_time": "2020-11-14T12:26:34.416734",
     "exception": false,
     "start_time": "2020-11-14T12:26:34.323003",
     "status": "completed"
    },
    "tags": []
   },
   "outputs": [
    {
     "data": {
      "text/plain": [
       "price            0\n",
       "bedrooms         0\n",
       "bathrooms        0\n",
       "sqft_living      0\n",
       "sqft_lot         0\n",
       "floors           0\n",
       "waterfront       0\n",
       "view             0\n",
       "condition        0\n",
       "sqft_above       0\n",
       "sqft_basement    0\n",
       "yr_built         0\n",
       "yr_renovated     0\n",
       "statezip         0\n",
       "dtype: int64"
      ]
     },
     "execution_count": 9,
     "metadata": {},
     "output_type": "execute_result"
    }
   ],
   "source": [
    "dataset.isnull().sum()"
   ]
  },
  {
   "cell_type": "markdown",
   "metadata": {
    "papermill": {
     "duration": 0.07961,
     "end_time": "2020-11-14T12:26:34.576461",
     "exception": false,
     "start_time": "2020-11-14T12:26:34.496851",
     "status": "completed"
    },
    "tags": []
   },
   "source": [
    "*No null values present*"
   ]
  },
  {
   "cell_type": "markdown",
   "metadata": {
    "papermill": {
     "duration": 0.080427,
     "end_time": "2020-11-14T12:26:34.736730",
     "exception": false,
     "start_time": "2020-11-14T12:26:34.656303",
     "status": "completed"
    },
    "tags": []
   },
   "source": [
    "# General corellation analysis"
   ]
  },
  {
   "cell_type": "code",
   "execution_count": 10,
   "metadata": {
    "execution": {
     "iopub.execute_input": "2020-11-14T12:26:34.914119Z",
     "iopub.status.busy": "2020-11-14T12:26:34.913227Z",
     "iopub.status.idle": "2020-11-14T12:26:35.834781Z",
     "shell.execute_reply": "2020-11-14T12:26:35.835476Z"
    },
    "papermill": {
     "duration": 1.019064,
     "end_time": "2020-11-14T12:26:35.835694",
     "exception": false,
     "start_time": "2020-11-14T12:26:34.816630",
     "status": "completed"
    },
    "tags": []
   },
   "outputs": [
    {
     "data": {
      "text/plain": [
       "<matplotlib.axes._subplots.AxesSubplot at 0x7fd2121ac490>"
      ]
     },
     "execution_count": 10,
     "metadata": {},
     "output_type": "execute_result"
    },
    {
     "data": {
      "image/png": "[encoded data removed]",
      "text/plain": [
       "<Figure size 720x576 with 2 Axes>"
      ]
     },
     "metadata": {
      "needs_background": "light"
     },
     "output_type": "display_data"
    }
   ],
   "source": [
    "a4_dims = (10, 8)\n",
    "fig, ax = plt.subplots(figsize=a4_dims)\n",
    "cor = dataset.corr()\n",
    "sns.heatmap(cor, annot = True, cmap=\"YlGnBu\")"
   ]
  },
  {
   "cell_type": "markdown",
   "metadata": {
    "papermill": {
     "duration": 0.083302,
     "end_time": "2020-11-14T12:26:36.003209",
     "exception": false,
     "start_time": "2020-11-14T12:26:35.919907",
     "status": "completed"
    },
    "tags": []
   },
   "source": [
    "# Analysis on number of bedroom feature"
   ]
  },
  {
   "cell_type": "markdown",
   "metadata": {
    "papermill": {
     "duration": 0.083044,
     "end_time": "2020-11-14T12:26:36.170218",
     "exception": false,
     "start_time": "2020-11-14T12:26:36.087174",
     "status": "completed"
    },
    "tags": []
   },
   "source": [
    "corellation of price with no. of bedrooms"
   ]
  },
  {
   "cell_type": "code",
   "execution_count": 11,
   "metadata": {
    "execution": {
     "iopub.execute_input": "2020-11-14T12:26:36.349204Z",
     "iopub.status.busy": "2020-11-14T12:26:36.348099Z",
     "iopub.status.idle": "2020-11-14T12:26:36.894475Z",
     "shell.execute_reply": "2020-11-14T12:26:36.893817Z"
    },
    "papermill": {
     "duration": 0.641121,
     "end_time": "2020-11-14T12:26:36.894621",
     "exception": false,
     "start_time": "2020-11-14T12:26:36.253500",
     "status": "completed"
    },
    "tags": []
   },
   "outputs": [
    {
     "data": {
      "text/plain": [
       "<matplotlib.axes._subplots.AxesSubplot at 0x7fd211bd6510>"
      ]
     },
     "execution_count": 11,
     "metadata": {},
     "output_type": "execute_result"
    },
    {
     "data": {
      "image/png": "[encoded data removed]",
      "text/plain": [
       "<Figure size 1080x360 with 1 Axes>"
      ]
     },
     "metadata": {
      "needs_background": "light"
     },
     "output_type": "display_data"
    }
   ],
   "source": [
    "a4_dims = (15, 5)\n",
    "fig, ax = plt.subplots(figsize=a4_dims)\n",
    "sns.barplot(x = dataset.bedrooms, y = dataset.price)"
   ]
  },
  {
   "cell_type": "markdown",
   "metadata": {
    "papermill": {
     "duration": 0.085415,
     "end_time": "2020-11-14T12:26:37.066177",
     "exception": false,
     "start_time": "2020-11-14T12:26:36.980762",
     "status": "completed"
    },
    "tags": []
   },
   "source": [
    "*0 & 9 bedrooms are probably an outlier. Let's dive deeper*"
   ]
  },
  {
   "cell_type": "markdown",
   "metadata": {
    "papermill": {
     "duration": 0.084982,
     "end_time": "2020-11-14T12:26:37.237171",
     "exception": false,
     "start_time": "2020-11-14T12:26:37.152189",
     "status": "completed"
    },
    "tags": []
   },
   "source": [
    "Let's get the count  of respective no. of bedrooms"
   ]
  },
  {
   "cell_type": "code",
   "execution_count": 12,
   "metadata": {
    "execution": {
     "iopub.execute_input": "2020-11-14T12:26:37.414205Z",
     "iopub.status.busy": "2020-11-14T12:26:37.413152Z",
     "iopub.status.idle": "2020-11-14T12:26:37.434993Z",
     "shell.execute_reply": "2020-11-14T12:26:37.434245Z"
    },
    "papermill": {
     "duration": 0.113138,
     "end_time": "2020-11-14T12:26:37.435119",
     "exception": false,
     "start_time": "2020-11-14T12:26:37.321981",
     "status": "completed"
    },
    "tags": []
   },
   "outputs": [
    {
     "data": {
      "text/html": [
       "<div>\n",
       "<style scoped>\n",
       "    .dataframe tbody tr th:only-of-type {\n",
       "        vertical-align: middle;\n",
       "    }\n",
       "\n",
       "    .dataframe tbody tr th {\n",
       "        vertical-align: top;\n",
       "    }\n",
       "\n",
       "    .dataframe thead th {\n",
       "        text-align: right;\n",
       "    }\n",
       "</style>\n",
       "<table border=\"1\" class=\"dataframe\">\n",
       "  <thead>\n",
       "    <tr style=\"text-align: right;\">\n",
       "      <th></th>\n",
       "      <th>len</th>\n",
       "      <th>min</th>\n",
       "      <th>max</th>\n",
       "    </tr>\n",
       "    <tr>\n",
       "      <th>bedrooms</th>\n",
       "      <th></th>\n",
       "      <th></th>\n",
       "      <th></th>\n",
       "    </tr>\n",
       "  </thead>\n",
       "  <tbody>\n",
       "    <tr>\n",
       "      <th>0.0</th>\n",
       "      <td>2.0</td>\n",
       "      <td>1095000.0</td>\n",
       "      <td>1295648.0</td>\n",
       "    </tr>\n",
       "    <tr>\n",
       "      <th>1.0</th>\n",
       "      <td>38.0</td>\n",
       "      <td>0.0</td>\n",
       "      <td>540000.0</td>\n",
       "    </tr>\n",
       "    <tr>\n",
       "      <th>2.0</th>\n",
       "      <td>566.0</td>\n",
       "      <td>0.0</td>\n",
       "      <td>1695000.0</td>\n",
       "    </tr>\n",
       "    <tr>\n",
       "      <th>3.0</th>\n",
       "      <td>2032.0</td>\n",
       "      <td>0.0</td>\n",
       "      <td>26590000.0</td>\n",
       "    </tr>\n",
       "    <tr>\n",
       "      <th>4.0</th>\n",
       "      <td>1531.0</td>\n",
       "      <td>0.0</td>\n",
       "      <td>4489000.0</td>\n",
       "    </tr>\n",
       "    <tr>\n",
       "      <th>5.0</th>\n",
       "      <td>353.0</td>\n",
       "      <td>0.0</td>\n",
       "      <td>7062500.0</td>\n",
       "    </tr>\n",
       "    <tr>\n",
       "      <th>6.0</th>\n",
       "      <td>61.0</td>\n",
       "      <td>0.0</td>\n",
       "      <td>3100000.0</td>\n",
       "    </tr>\n",
       "    <tr>\n",
       "      <th>7.0</th>\n",
       "      <td>14.0</td>\n",
       "      <td>280000.0</td>\n",
       "      <td>3200000.0</td>\n",
       "    </tr>\n",
       "    <tr>\n",
       "      <th>8.0</th>\n",
       "      <td>2.0</td>\n",
       "      <td>340000.0</td>\n",
       "      <td>1970000.0</td>\n",
       "    </tr>\n",
       "    <tr>\n",
       "      <th>9.0</th>\n",
       "      <td>1.0</td>\n",
       "      <td>599999.0</td>\n",
       "      <td>599999.0</td>\n",
       "    </tr>\n",
       "  </tbody>\n",
       "</table>\n",
       "</div>"
      ],
      "text/plain": [
       "             len        min         max\n",
       "bedrooms                               \n",
       "0.0          2.0  1095000.0   1295648.0\n",
       "1.0         38.0        0.0    540000.0\n",
       "2.0        566.0        0.0   1695000.0\n",
       "3.0       2032.0        0.0  26590000.0\n",
       "4.0       1531.0        0.0   4489000.0\n",
       "5.0        353.0        0.0   7062500.0\n",
       "6.0         61.0        0.0   3100000.0\n",
       "7.0         14.0   280000.0   3200000.0\n",
       "8.0          2.0   340000.0   1970000.0\n",
       "9.0          1.0   599999.0    599999.0"
      ]
     },
     "execution_count": 12,
     "metadata": {},
     "output_type": "execute_result"
    }
   ],
   "source": [
    "dataset.groupby('bedrooms').price.agg([len, min, max])"
   ]
  },
  {
   "cell_type": "markdown",
   "metadata": {
    "papermill": {
     "duration": 0.085633,
     "end_time": "2020-11-14T12:26:37.606970",
     "exception": false,
     "start_time": "2020-11-14T12:26:37.521337",
     "status": "completed"
    },
    "tags": []
   },
   "source": [
    "*Hence proved that 0 & 9 are outliers. Let's remove them*"
   ]
  },
  {
   "cell_type": "code",
   "execution_count": 13,
   "metadata": {
    "execution": {
     "iopub.execute_input": "2020-11-14T12:26:37.787210Z",
     "iopub.status.busy": "2020-11-14T12:26:37.786420Z",
     "iopub.status.idle": "2020-11-14T12:26:37.813005Z",
     "shell.execute_reply": "2020-11-14T12:26:37.812299Z"
    },
    "papermill": {
     "duration": 0.120074,
     "end_time": "2020-11-14T12:26:37.813135",
     "exception": false,
     "start_time": "2020-11-14T12:26:37.693061",
     "status": "completed"
    },
    "tags": []
   },
   "outputs": [],
   "source": [
    "df = dataset[(dataset.bedrooms > 0) & (dataset.bedrooms < 9)].copy()"
   ]
  },
  {
   "cell_type": "code",
   "execution_count": 14,
   "metadata": {
    "execution": {
     "iopub.execute_input": "2020-11-14T12:26:37.994103Z",
     "iopub.status.busy": "2020-11-14T12:26:37.993186Z",
     "iopub.status.idle": "2020-11-14T12:26:37.997906Z",
     "shell.execute_reply": "2020-11-14T12:26:37.997155Z"
    },
    "papermill": {
     "duration": 0.097641,
     "end_time": "2020-11-14T12:26:37.998031",
     "exception": false,
     "start_time": "2020-11-14T12:26:37.900390",
     "status": "completed"
    },
    "tags": []
   },
   "outputs": [
    {
     "data": {
      "text/plain": [
       "(4597, 14)"
      ]
     },
     "execution_count": 14,
     "metadata": {},
     "output_type": "execute_result"
    }
   ],
   "source": [
    "df.shape"
   ]
  },
  {
   "cell_type": "markdown",
   "metadata": {
    "papermill": {
     "duration": 0.08653,
     "end_time": "2020-11-14T12:26:38.172007",
     "exception": false,
     "start_time": "2020-11-14T12:26:38.085477",
     "status": "completed"
    },
    "tags": []
   },
   "source": [
    "# Analysis on the zipcode feature"
   ]
  },
  {
   "cell_type": "markdown",
   "metadata": {
    "papermill": {
     "duration": 0.086259,
     "end_time": "2020-11-14T12:26:38.345063",
     "exception": false,
     "start_time": "2020-11-14T12:26:38.258804",
     "status": "completed"
    },
    "tags": []
   },
   "source": [
    "Checking for unique zip code"
   ]
  },
  {
   "cell_type": "code",
   "execution_count": 15,
   "metadata": {
    "execution": {
     "iopub.execute_input": "2020-11-14T12:26:38.529245Z",
     "iopub.status.busy": "2020-11-14T12:26:38.528176Z",
     "iopub.status.idle": "2020-11-14T12:26:38.532575Z",
     "shell.execute_reply": "2020-11-14T12:26:38.531833Z"
    },
    "papermill": {
     "duration": 0.1012,
     "end_time": "2020-11-14T12:26:38.532717",
     "exception": false,
     "start_time": "2020-11-14T12:26:38.431517",
     "status": "completed"
    },
    "tags": []
   },
   "outputs": [
    {
     "data": {
      "text/plain": [
       "WA 98103    147\n",
       "WA 98052    135\n",
       "WA 98117    132\n",
       "WA 98115    130\n",
       "WA 98006    110\n",
       "           ... \n",
       "WA 98047      6\n",
       "WA 98288      3\n",
       "WA 98354      2\n",
       "WA 98050      2\n",
       "WA 98068      1\n",
       "Name: statezip, Length: 77, dtype: int64"
      ]
     },
     "execution_count": 15,
     "metadata": {},
     "output_type": "execute_result"
    }
   ],
   "source": [
    "df.statezip.value_counts()"
   ]
  },
  {
   "cell_type": "markdown",
   "metadata": {
    "papermill": {
     "duration": 0.087341,
     "end_time": "2020-11-14T12:26:38.707034",
     "exception": false,
     "start_time": "2020-11-14T12:26:38.619693",
     "status": "completed"
    },
    "tags": []
   },
   "source": [
    "*All the zip codes are of Washington. Let's do a correlation analysis of zip codes*"
   ]
  },
  {
   "cell_type": "code",
   "execution_count": 16,
   "metadata": {
    "execution": {
     "iopub.execute_input": "2020-11-14T12:26:38.943501Z",
     "iopub.status.busy": "2020-11-14T12:26:38.937114Z",
     "iopub.status.idle": "2020-11-14T12:26:42.763201Z",
     "shell.execute_reply": "2020-11-14T12:26:42.762567Z"
    },
    "papermill": {
     "duration": 3.921242,
     "end_time": "2020-11-14T12:26:42.763332",
     "exception": false,
     "start_time": "2020-11-14T12:26:38.842090",
     "status": "completed"
    },
    "tags": []
   },
   "outputs": [
    {
     "data": {
      "text/plain": [
       "<matplotlib.axes._subplots.AxesSubplot at 0x7fd211e9ea50>"
      ]
     },
     "execution_count": 16,
     "metadata": {},
     "output_type": "execute_result"
    },
    {
     "data": {
      "image/png": "[encoded data removed]",
      "text/plain": [
       "<Figure size 360x1296 with 1 Axes>"
      ]
     },
     "metadata": {
      "needs_background": "light"
     },
     "output_type": "display_data"
    }
   ],
   "source": [
    "a4_dims = (5, 18)\n",
    "fig, ax = plt.subplots(figsize=a4_dims)\n",
    "sns.barplot(ax = ax, x = df.price, y = df.statezip)"
   ]
  },
  {
   "cell_type": "markdown",
   "metadata": {
    "papermill": {
     "duration": 0.089957,
     "end_time": "2020-11-14T12:26:42.943720",
     "exception": false,
     "start_time": "2020-11-14T12:26:42.853763",
     "status": "completed"
    },
    "tags": []
   },
   "source": [
    "Let's look at the distribution of price"
   ]
  },
  {
   "cell_type": "code",
   "execution_count": 17,
   "metadata": {
    "execution": {
     "iopub.execute_input": "2020-11-14T12:26:43.136931Z",
     "iopub.status.busy": "2020-11-14T12:26:43.131207Z",
     "iopub.status.idle": "2020-11-14T12:26:45.523725Z",
     "shell.execute_reply": "2020-11-14T12:26:45.522957Z"
    },
    "papermill": {
     "duration": 2.490005,
     "end_time": "2020-11-14T12:26:45.523848",
     "exception": false,
     "start_time": "2020-11-14T12:26:43.033843",
     "status": "completed"
    },
    "tags": []
   },
   "outputs": [
    {
     "data": {
      "text/plain": [
       "<matplotlib.axes._subplots.AxesSubplot at 0x7fd209dc8050>"
      ]
     },
     "execution_count": 17,
     "metadata": {},
     "output_type": "execute_result"
    },
    {
     "data": {
      "image/png": "[encoded data removed]",
      "text/plain": [
       "<Figure size 1080x576 with 1 Axes>"
      ]
     },
     "metadata": {
      "needs_background": "light"
     },
     "output_type": "display_data"
    }
   ],
   "source": [
    "a4_dims = (15, 8)\n",
    "fig, ax = plt.subplots(figsize=a4_dims)\n",
    "sns.distplot(a = df.price, bins = 1000, color = 'r', ax = ax)"
   ]
  },
  {
   "cell_type": "markdown",
   "metadata": {
    "papermill": {
     "duration": 0.091954,
     "end_time": "2020-11-14T12:26:45.709243",
     "exception": false,
     "start_time": "2020-11-14T12:26:45.617289",
     "status": "completed"
    },
    "tags": []
   },
   "source": [
    "Groupby on price"
   ]
  },
  {
   "cell_type": "code",
   "execution_count": 18,
   "metadata": {
    "execution": {
     "iopub.execute_input": "2020-11-14T12:26:45.909929Z",
     "iopub.status.busy": "2020-11-14T12:26:45.908872Z",
     "iopub.status.idle": "2020-11-14T12:26:45.913617Z",
     "shell.execute_reply": "2020-11-14T12:26:45.912868Z"
    },
    "papermill": {
     "duration": 0.110363,
     "end_time": "2020-11-14T12:26:45.913746",
     "exception": false,
     "start_time": "2020-11-14T12:26:45.803383",
     "status": "completed"
    },
    "tags": []
   },
   "outputs": [
    {
     "data": {
      "text/plain": [
       "min           0.0\n",
       "max    26590000.0\n",
       "Name: price, dtype: float64"
      ]
     },
     "execution_count": 18,
     "metadata": {},
     "output_type": "execute_result"
    }
   ],
   "source": [
    "df.price.agg([min, max])"
   ]
  },
  {
   "cell_type": "markdown",
   "metadata": {
    "papermill": {
     "duration": 0.09513,
     "end_time": "2020-11-14T12:26:46.102882",
     "exception": false,
     "start_time": "2020-11-14T12:26:46.007752",
     "status": "completed"
    },
    "tags": []
   },
   "source": [
    "**How many instances are there with price = 0?**"
   ]
  },
  {
   "cell_type": "code",
   "execution_count": 19,
   "metadata": {
    "execution": {
     "iopub.execute_input": "2020-11-14T12:26:46.317931Z",
     "iopub.status.busy": "2020-11-14T12:26:46.316878Z",
     "iopub.status.idle": "2020-11-14T12:26:46.322463Z",
     "shell.execute_reply": "2020-11-14T12:26:46.321825Z"
    },
    "papermill": {
     "duration": 0.108636,
     "end_time": "2020-11-14T12:26:46.322610",
     "exception": false,
     "start_time": "2020-11-14T12:26:46.213974",
     "status": "completed"
    },
    "tags": []
   },
   "outputs": [
    {
     "data": {
      "text/plain": [
       "49"
      ]
     },
     "execution_count": 19,
     "metadata": {},
     "output_type": "execute_result"
    }
   ],
   "source": [
    "len(df[(df.price == 0)])"
   ]
  },
  {
   "cell_type": "markdown",
   "metadata": {
    "papermill": {
     "duration": 0.098374,
     "end_time": "2020-11-14T12:26:46.515904",
     "exception": false,
     "start_time": "2020-11-14T12:26:46.417530",
     "status": "completed"
    },
    "tags": []
   },
   "source": [
    "*need to set some price for these records*"
   ]
  },
  {
   "cell_type": "markdown",
   "metadata": {
    "papermill": {
     "duration": 0.094963,
     "end_time": "2020-11-14T12:26:46.705692",
     "exception": false,
     "start_time": "2020-11-14T12:26:46.610729",
     "status": "completed"
    },
    "tags": []
   },
   "source": [
    "# Analysis on bathroom feature w.r.t. price"
   ]
  },
  {
   "cell_type": "code",
   "execution_count": 20,
   "metadata": {
    "execution": {
     "iopub.execute_input": "2020-11-14T12:26:46.918165Z",
     "iopub.status.busy": "2020-11-14T12:26:46.915961Z",
     "iopub.status.idle": "2020-11-14T12:26:48.008887Z",
     "shell.execute_reply": "2020-11-14T12:26:48.009534Z"
    },
    "papermill": {
     "duration": 1.207356,
     "end_time": "2020-11-14T12:26:48.009712",
     "exception": false,
     "start_time": "2020-11-14T12:26:46.802356",
     "status": "completed"
    },
    "tags": []
   },
   "outputs": [
    {
     "data": {
      "text/plain": [
       "<matplotlib.axes._subplots.AxesSubplot at 0x7fd209471690>"
      ]
     },
     "execution_count": 20,
     "metadata": {},
     "output_type": "execute_result"
    },
    {
     "data": {
      "image/png": "[encoded data removed]",
      "text/plain": [
       "<Figure size 1080x360 with 1 Axes>"
      ]
     },
     "metadata": {
      "needs_background": "light"
     },
     "output_type": "display_data"
    }
   ],
   "source": [
    "a4_dims = (15, 5)\n",
    "fig, ax = plt.subplots(figsize=a4_dims)\n",
    "sns.barplot(x = df.bathrooms, y = df.price)"
   ]
  },
  {
   "cell_type": "markdown",
   "metadata": {
    "papermill": {
     "duration": 0.097163,
     "end_time": "2020-11-14T12:26:48.204130",
     "exception": false,
     "start_time": "2020-11-14T12:26:48.106967",
     "status": "completed"
    },
    "tags": []
   },
   "source": [
    "# Analysis on all the instances whose price is 0"
   ]
  },
  {
   "cell_type": "markdown",
   "metadata": {
    "papermill": {
     "duration": 0.095421,
     "end_time": "2020-11-14T12:26:48.395122",
     "exception": false,
     "start_time": "2020-11-14T12:26:48.299701",
     "status": "completed"
    },
    "tags": []
   },
   "source": [
    "Getting all those instances"
   ]
  },
  {
   "cell_type": "code",
   "execution_count": 21,
   "metadata": {
    "execution": {
     "iopub.execute_input": "2020-11-14T12:26:48.592473Z",
     "iopub.status.busy": "2020-11-14T12:26:48.591657Z",
     "iopub.status.idle": "2020-11-14T12:26:48.596170Z",
     "shell.execute_reply": "2020-11-14T12:26:48.595544Z"
    },
    "papermill": {
     "duration": 0.105673,
     "end_time": "2020-11-14T12:26:48.596291",
     "exception": false,
     "start_time": "2020-11-14T12:26:48.490618",
     "status": "completed"
    },
    "tags": []
   },
   "outputs": [
    {
     "data": {
      "text/plain": [
       "(49, 14)"
      ]
     },
     "execution_count": 21,
     "metadata": {},
     "output_type": "execute_result"
    }
   ],
   "source": [
    "zero_price = df[(df.price == 0)].copy()\n",
    "zero_price.shape"
   ]
  },
  {
   "cell_type": "code",
   "execution_count": 22,
   "metadata": {
    "execution": {
     "iopub.execute_input": "2020-11-14T12:26:48.811060Z",
     "iopub.status.busy": "2020-11-14T12:26:48.810002Z",
     "iopub.status.idle": "2020-11-14T12:26:48.814282Z",
     "shell.execute_reply": "2020-11-14T12:26:48.814899Z"
    },
    "papermill": {
     "duration": 0.121696,
     "end_time": "2020-11-14T12:26:48.815072",
     "exception": false,
     "start_time": "2020-11-14T12:26:48.693376",
     "status": "completed"
    },
    "tags": []
   },
   "outputs": [
    {
     "data": {
      "text/html": [
       "<div>\n",
       "<style scoped>\n",
       "    .dataframe tbody tr th:only-of-type {\n",
       "        vertical-align: middle;\n",
       "    }\n",
       "\n",
       "    .dataframe tbody tr th {\n",
       "        vertical-align: top;\n",
       "    }\n",
       "\n",
       "    .dataframe thead th {\n",
       "        text-align: right;\n",
       "    }\n",
       "</style>\n",
       "<table border=\"1\" class=\"dataframe\">\n",
       "  <thead>\n",
       "    <tr style=\"text-align: right;\">\n",
       "      <th></th>\n",
       "      <th>price</th>\n",
       "      <th>bedrooms</th>\n",
       "      <th>bathrooms</th>\n",
       "      <th>sqft_living</th>\n",
       "      <th>sqft_lot</th>\n",
       "      <th>floors</th>\n",
       "      <th>waterfront</th>\n",
       "      <th>view</th>\n",
       "      <th>condition</th>\n",
       "      <th>sqft_above</th>\n",
       "      <th>sqft_basement</th>\n",
       "      <th>yr_built</th>\n",
       "      <th>yr_renovated</th>\n",
       "      <th>statezip</th>\n",
       "    </tr>\n",
       "  </thead>\n",
       "  <tbody>\n",
       "    <tr>\n",
       "      <th>4354</th>\n",
       "      <td>0.0</td>\n",
       "      <td>3.0</td>\n",
       "      <td>1.75</td>\n",
       "      <td>1490</td>\n",
       "      <td>10125</td>\n",
       "      <td>1.0</td>\n",
       "      <td>0</td>\n",
       "      <td>0</td>\n",
       "      <td>4</td>\n",
       "      <td>1490</td>\n",
       "      <td>0</td>\n",
       "      <td>1962</td>\n",
       "      <td>0</td>\n",
       "      <td>WA 98001</td>\n",
       "    </tr>\n",
       "    <tr>\n",
       "      <th>4356</th>\n",
       "      <td>0.0</td>\n",
       "      <td>4.0</td>\n",
       "      <td>2.75</td>\n",
       "      <td>2600</td>\n",
       "      <td>5390</td>\n",
       "      <td>1.0</td>\n",
       "      <td>0</td>\n",
       "      <td>0</td>\n",
       "      <td>4</td>\n",
       "      <td>1300</td>\n",
       "      <td>1300</td>\n",
       "      <td>1960</td>\n",
       "      <td>2001</td>\n",
       "      <td>WA 98199</td>\n",
       "    </tr>\n",
       "    <tr>\n",
       "      <th>4357</th>\n",
       "      <td>0.0</td>\n",
       "      <td>6.0</td>\n",
       "      <td>2.75</td>\n",
       "      <td>3200</td>\n",
       "      <td>9200</td>\n",
       "      <td>1.0</td>\n",
       "      <td>0</td>\n",
       "      <td>2</td>\n",
       "      <td>4</td>\n",
       "      <td>1600</td>\n",
       "      <td>1600</td>\n",
       "      <td>1953</td>\n",
       "      <td>1983</td>\n",
       "      <td>WA 98146</td>\n",
       "    </tr>\n",
       "    <tr>\n",
       "      <th>4358</th>\n",
       "      <td>0.0</td>\n",
       "      <td>5.0</td>\n",
       "      <td>3.50</td>\n",
       "      <td>3480</td>\n",
       "      <td>36615</td>\n",
       "      <td>2.0</td>\n",
       "      <td>0</td>\n",
       "      <td>0</td>\n",
       "      <td>4</td>\n",
       "      <td>2490</td>\n",
       "      <td>990</td>\n",
       "      <td>1983</td>\n",
       "      <td>0</td>\n",
       "      <td>WA 98075</td>\n",
       "    </tr>\n",
       "    <tr>\n",
       "      <th>4361</th>\n",
       "      <td>0.0</td>\n",
       "      <td>5.0</td>\n",
       "      <td>1.50</td>\n",
       "      <td>1500</td>\n",
       "      <td>7112</td>\n",
       "      <td>1.0</td>\n",
       "      <td>0</td>\n",
       "      <td>0</td>\n",
       "      <td>5</td>\n",
       "      <td>760</td>\n",
       "      <td>740</td>\n",
       "      <td>1920</td>\n",
       "      <td>0</td>\n",
       "      <td>WA 98166</td>\n",
       "    </tr>\n",
       "  </tbody>\n",
       "</table>\n",
       "</div>"
      ],
      "text/plain": [
       "      price  bedrooms  bathrooms  sqft_living  sqft_lot  floors  waterfront  \\\n",
       "4354    0.0       3.0       1.75         1490     10125     1.0           0   \n",
       "4356    0.0       4.0       2.75         2600      5390     1.0           0   \n",
       "4357    0.0       6.0       2.75         3200      9200     1.0           0   \n",
       "4358    0.0       5.0       3.50         3480     36615     2.0           0   \n",
       "4361    0.0       5.0       1.50         1500      7112     1.0           0   \n",
       "\n",
       "      view  condition  sqft_above  sqft_basement  yr_built  yr_renovated  \\\n",
       "4354     0          4        1490              0      1962             0   \n",
       "4356     0          4        1300           1300      1960          2001   \n",
       "4357     2          4        1600           1600      1953          1983   \n",
       "4358     0          4        2490            990      1983             0   \n",
       "4361     0          5         760            740      1920             0   \n",
       "\n",
       "      statezip  \n",
       "4354  WA 98001  \n",
       "4356  WA 98199  \n",
       "4357  WA 98146  \n",
       "4358  WA 98075  \n",
       "4361  WA 98166  "
      ]
     },
     "execution_count": 22,
     "metadata": {},
     "output_type": "execute_result"
    }
   ],
   "source": [
    "zero_price.head()"
   ]
  },
  {
   "cell_type": "markdown",
   "metadata": {
    "papermill": {
     "duration": 0.097196,
     "end_time": "2020-11-14T12:26:49.011101",
     "exception": false,
     "start_time": "2020-11-14T12:26:48.913905",
     "status": "completed"
    },
    "tags": []
   },
   "source": [
    "Let's get the unique value of the most important features"
   ]
  },
  {
   "cell_type": "code",
   "execution_count": 23,
   "metadata": {
    "execution": {
     "iopub.execute_input": "2020-11-14T12:26:49.216147Z",
     "iopub.status.busy": "2020-11-14T12:26:49.210644Z",
     "iopub.status.idle": "2020-11-14T12:26:49.410219Z",
     "shell.execute_reply": "2020-11-14T12:26:49.409561Z"
    },
    "papermill": {
     "duration": 0.303089,
     "end_time": "2020-11-14T12:26:49.410358",
     "exception": false,
     "start_time": "2020-11-14T12:26:49.107269",
     "status": "completed"
    },
    "tags": []
   },
   "outputs": [
    {
     "data": {
      "text/plain": [
       "<matplotlib.axes._subplots.AxesSubplot at 0x7fd2093da390>"
      ]
     },
     "execution_count": 23,
     "metadata": {},
     "output_type": "execute_result"
    },
    {
     "data": {
      "image/png": "[encoded data removed]",
      "text/plain": [
       "<Figure size 432x288 with 1 Axes>"
      ]
     },
     "metadata": {
      "needs_background": "light"
     },
     "output_type": "display_data"
    }
   ],
   "source": [
    "sns.distplot(zero_price.sqft_living)"
   ]
  },
  {
   "cell_type": "markdown",
   "metadata": {
    "papermill": {
     "duration": 0.097616,
     "end_time": "2020-11-14T12:26:49.606516",
     "exception": false,
     "start_time": "2020-11-14T12:26:49.508900",
     "status": "completed"
    },
    "tags": []
   },
   "source": [
    "*Most of the 0 price houses are in the range 1000 - 5000 sqft*"
   ]
  },
  {
   "cell_type": "markdown",
   "metadata": {
    "papermill": {
     "duration": 0.100178,
     "end_time": "2020-11-14T12:26:49.806432",
     "exception": false,
     "start_time": "2020-11-14T12:26:49.706254",
     "status": "completed"
    },
    "tags": []
   },
   "source": [
    "Let's find more correlation between the 0 price houses"
   ]
  },
  {
   "cell_type": "code",
   "execution_count": 24,
   "metadata": {
    "execution": {
     "iopub.execute_input": "2020-11-14T12:26:50.044516Z",
     "iopub.status.busy": "2020-11-14T12:26:50.035318Z",
     "iopub.status.idle": "2020-11-14T12:26:50.049838Z",
     "shell.execute_reply": "2020-11-14T12:26:50.049134Z"
    },
    "papermill": {
     "duration": 0.143343,
     "end_time": "2020-11-14T12:26:50.049976",
     "exception": false,
     "start_time": "2020-11-14T12:26:49.906633",
     "status": "completed"
    },
    "tags": []
   },
   "outputs": [
    {
     "data": {
      "text/html": [
       "<div>\n",
       "<style scoped>\n",
       "    .dataframe tbody tr th:only-of-type {\n",
       "        vertical-align: middle;\n",
       "    }\n",
       "\n",
       "    .dataframe tbody tr th {\n",
       "        vertical-align: top;\n",
       "    }\n",
       "\n",
       "    .dataframe thead th {\n",
       "        text-align: right;\n",
       "    }\n",
       "</style>\n",
       "<table border=\"1\" class=\"dataframe\">\n",
       "  <thead>\n",
       "    <tr style=\"text-align: right;\">\n",
       "      <th></th>\n",
       "      <th>price</th>\n",
       "      <th>bedrooms</th>\n",
       "      <th>bathrooms</th>\n",
       "      <th>sqft_living</th>\n",
       "      <th>sqft_lot</th>\n",
       "      <th>floors</th>\n",
       "      <th>waterfront</th>\n",
       "      <th>view</th>\n",
       "      <th>condition</th>\n",
       "      <th>sqft_above</th>\n",
       "      <th>sqft_basement</th>\n",
       "      <th>yr_built</th>\n",
       "      <th>yr_renovated</th>\n",
       "      <th>statezip</th>\n",
       "    </tr>\n",
       "  </thead>\n",
       "  <tbody>\n",
       "    <tr>\n",
       "      <th>min</th>\n",
       "      <td>0.0</td>\n",
       "      <td>1.000000</td>\n",
       "      <td>1.00000</td>\n",
       "      <td>720.000000</td>\n",
       "      <td>3500.000000</td>\n",
       "      <td>1.0</td>\n",
       "      <td>0.000000</td>\n",
       "      <td>0.000000</td>\n",
       "      <td>2.000000</td>\n",
       "      <td>720.000000</td>\n",
       "      <td>0.000000</td>\n",
       "      <td>1920.000000</td>\n",
       "      <td>0.000000</td>\n",
       "      <td>WA 98001</td>\n",
       "    </tr>\n",
       "    <tr>\n",
       "      <th>max</th>\n",
       "      <td>0.0</td>\n",
       "      <td>6.000000</td>\n",
       "      <td>6.25000</td>\n",
       "      <td>8020.000000</td>\n",
       "      <td>188200.000000</td>\n",
       "      <td>3.0</td>\n",
       "      <td>1.000000</td>\n",
       "      <td>4.000000</td>\n",
       "      <td>5.000000</td>\n",
       "      <td>8020.000000</td>\n",
       "      <td>1950.000000</td>\n",
       "      <td>2013.000000</td>\n",
       "      <td>2009.000000</td>\n",
       "      <td>WA 98199</td>\n",
       "    </tr>\n",
       "    <tr>\n",
       "      <th>mean</th>\n",
       "      <td>0.0</td>\n",
       "      <td>3.979592</td>\n",
       "      <td>2.69898</td>\n",
       "      <td>2787.142857</td>\n",
       "      <td>16453.306122</td>\n",
       "      <td>1.5</td>\n",
       "      <td>0.061224</td>\n",
       "      <td>0.795918</td>\n",
       "      <td>3.673469</td>\n",
       "      <td>2295.714286</td>\n",
       "      <td>491.428571</td>\n",
       "      <td>1969.918367</td>\n",
       "      <td>812.714286</td>\n",
       "      <td>NaN</td>\n",
       "    </tr>\n",
       "    <tr>\n",
       "      <th>median</th>\n",
       "      <td>0.0</td>\n",
       "      <td>4.000000</td>\n",
       "      <td>2.50000</td>\n",
       "      <td>2600.000000</td>\n",
       "      <td>9000.000000</td>\n",
       "      <td>1.5</td>\n",
       "      <td>0.000000</td>\n",
       "      <td>0.000000</td>\n",
       "      <td>3.000000</td>\n",
       "      <td>1990.000000</td>\n",
       "      <td>0.000000</td>\n",
       "      <td>1962.000000</td>\n",
       "      <td>0.000000</td>\n",
       "      <td>NaN</td>\n",
       "    </tr>\n",
       "  </tbody>\n",
       "</table>\n",
       "</div>"
      ],
      "text/plain": [
       "        price  bedrooms  bathrooms  sqft_living       sqft_lot  floors  \\\n",
       "min       0.0  1.000000    1.00000   720.000000    3500.000000     1.0   \n",
       "max       0.0  6.000000    6.25000  8020.000000  188200.000000     3.0   \n",
       "mean      0.0  3.979592    2.69898  2787.142857   16453.306122     1.5   \n",
       "median    0.0  4.000000    2.50000  2600.000000    9000.000000     1.5   \n",
       "\n",
       "        waterfront      view  condition   sqft_above  sqft_basement  \\\n",
       "min       0.000000  0.000000   2.000000   720.000000       0.000000   \n",
       "max       1.000000  4.000000   5.000000  8020.000000    1950.000000   \n",
       "mean      0.061224  0.795918   3.673469  2295.714286     491.428571   \n",
       "median    0.000000  0.000000   3.000000  1990.000000       0.000000   \n",
       "\n",
       "           yr_built  yr_renovated  statezip  \n",
       "min     1920.000000      0.000000  WA 98001  \n",
       "max     2013.000000   2009.000000  WA 98199  \n",
       "mean    1969.918367    812.714286       NaN  \n",
       "median  1962.000000      0.000000       NaN  "
      ]
     },
     "execution_count": 24,
     "metadata": {},
     "output_type": "execute_result"
    }
   ],
   "source": [
    "zero_price.agg([min, max, 'mean', 'median'])"
   ]
  },
  {
   "cell_type": "markdown",
   "metadata": {
    "papermill": {
     "duration": 0.099203,
     "end_time": "2020-11-14T12:26:50.250773",
     "exception": false,
     "start_time": "2020-11-14T12:26:50.151570",
     "status": "completed"
    },
    "tags": []
   },
   "source": [
    "**We are going to use common ranges from the above table to get similar records from the original dataset and non-zero price to set the values of 0 price instances**"
   ]
  },
  {
   "cell_type": "code",
   "execution_count": 25,
   "metadata": {
    "execution": {
     "iopub.execute_input": "2020-11-14T12:26:50.462230Z",
     "iopub.status.busy": "2020-11-14T12:26:50.461464Z",
     "iopub.status.idle": "2020-11-14T12:26:50.463959Z",
     "shell.execute_reply": "2020-11-14T12:26:50.464571Z"
    },
    "papermill": {
     "duration": 0.114256,
     "end_time": "2020-11-14T12:26:50.464746",
     "exception": false,
     "start_time": "2020-11-14T12:26:50.350490",
     "status": "completed"
    },
    "tags": []
   },
   "outputs": [],
   "source": [
    "sim_from_ori = df[(df.bedrooms == 4) & (df.bathrooms > 1) & (df.bathrooms < 4) & (df.sqft_living > 2500) & (df.sqft_living < 3000) & (df.floors < 3) & (df.yr_built < 1970)].copy()"
   ]
  },
  {
   "cell_type": "code",
   "execution_count": 26,
   "metadata": {
    "execution": {
     "iopub.execute_input": "2020-11-14T12:26:50.666757Z",
     "iopub.status.busy": "2020-11-14T12:26:50.665735Z",
     "iopub.status.idle": "2020-11-14T12:26:50.669968Z",
     "shell.execute_reply": "2020-11-14T12:26:50.669228Z"
    },
    "papermill": {
     "duration": 0.107205,
     "end_time": "2020-11-14T12:26:50.670096",
     "exception": false,
     "start_time": "2020-11-14T12:26:50.562891",
     "status": "completed"
    },
    "tags": []
   },
   "outputs": [
    {
     "data": {
      "text/plain": [
       "(79, 14)"
      ]
     },
     "execution_count": 26,
     "metadata": {},
     "output_type": "execute_result"
    }
   ],
   "source": [
    "sim_from_ori.shape"
   ]
  },
  {
   "cell_type": "code",
   "execution_count": 27,
   "metadata": {
    "execution": {
     "iopub.execute_input": "2020-11-14T12:26:50.888152Z",
     "iopub.status.busy": "2020-11-14T12:26:50.887170Z",
     "iopub.status.idle": "2020-11-14T12:26:50.892068Z",
     "shell.execute_reply": "2020-11-14T12:26:50.891152Z"
    },
    "papermill": {
     "duration": 0.122981,
     "end_time": "2020-11-14T12:26:50.892211",
     "exception": false,
     "start_time": "2020-11-14T12:26:50.769230",
     "status": "completed"
    },
    "tags": []
   },
   "outputs": [
    {
     "data": {
      "text/html": [
       "<div>\n",
       "<style scoped>\n",
       "    .dataframe tbody tr th:only-of-type {\n",
       "        vertical-align: middle;\n",
       "    }\n",
       "\n",
       "    .dataframe tbody tr th {\n",
       "        vertical-align: top;\n",
       "    }\n",
       "\n",
       "    .dataframe thead th {\n",
       "        text-align: right;\n",
       "    }\n",
       "</style>\n",
       "<table border=\"1\" class=\"dataframe\">\n",
       "  <thead>\n",
       "    <tr style=\"text-align: right;\">\n",
       "      <th></th>\n",
       "      <th>price</th>\n",
       "      <th>bedrooms</th>\n",
       "      <th>bathrooms</th>\n",
       "      <th>sqft_living</th>\n",
       "      <th>sqft_lot</th>\n",
       "      <th>floors</th>\n",
       "      <th>waterfront</th>\n",
       "      <th>view</th>\n",
       "      <th>condition</th>\n",
       "      <th>sqft_above</th>\n",
       "      <th>sqft_basement</th>\n",
       "      <th>yr_built</th>\n",
       "      <th>yr_renovated</th>\n",
       "      <th>statezip</th>\n",
       "    </tr>\n",
       "  </thead>\n",
       "  <tbody>\n",
       "    <tr>\n",
       "      <th>11</th>\n",
       "      <td>1400000.0</td>\n",
       "      <td>4.0</td>\n",
       "      <td>2.50</td>\n",
       "      <td>2920</td>\n",
       "      <td>4000</td>\n",
       "      <td>1.5</td>\n",
       "      <td>0</td>\n",
       "      <td>0</td>\n",
       "      <td>5</td>\n",
       "      <td>1910</td>\n",
       "      <td>1010</td>\n",
       "      <td>1909</td>\n",
       "      <td>1988</td>\n",
       "      <td>WA 98105</td>\n",
       "    </tr>\n",
       "    <tr>\n",
       "      <th>172</th>\n",
       "      <td>407000.0</td>\n",
       "      <td>4.0</td>\n",
       "      <td>2.25</td>\n",
       "      <td>2810</td>\n",
       "      <td>23400</td>\n",
       "      <td>1.0</td>\n",
       "      <td>0</td>\n",
       "      <td>1</td>\n",
       "      <td>3</td>\n",
       "      <td>1710</td>\n",
       "      <td>1100</td>\n",
       "      <td>1958</td>\n",
       "      <td>2004</td>\n",
       "      <td>WA 98198</td>\n",
       "    </tr>\n",
       "    <tr>\n",
       "      <th>207</th>\n",
       "      <td>360000.0</td>\n",
       "      <td>4.0</td>\n",
       "      <td>2.00</td>\n",
       "      <td>2680</td>\n",
       "      <td>18768</td>\n",
       "      <td>1.0</td>\n",
       "      <td>0</td>\n",
       "      <td>0</td>\n",
       "      <td>5</td>\n",
       "      <td>2680</td>\n",
       "      <td>0</td>\n",
       "      <td>1965</td>\n",
       "      <td>0</td>\n",
       "      <td>WA 98001</td>\n",
       "    </tr>\n",
       "    <tr>\n",
       "      <th>257</th>\n",
       "      <td>749950.0</td>\n",
       "      <td>4.0</td>\n",
       "      <td>2.75</td>\n",
       "      <td>2600</td>\n",
       "      <td>6050</td>\n",
       "      <td>2.0</td>\n",
       "      <td>0</td>\n",
       "      <td>0</td>\n",
       "      <td>5</td>\n",
       "      <td>1960</td>\n",
       "      <td>640</td>\n",
       "      <td>1949</td>\n",
       "      <td>0</td>\n",
       "      <td>WA 98116</td>\n",
       "    </tr>\n",
       "    <tr>\n",
       "      <th>261</th>\n",
       "      <td>581000.0</td>\n",
       "      <td>4.0</td>\n",
       "      <td>2.00</td>\n",
       "      <td>2510</td>\n",
       "      <td>13695</td>\n",
       "      <td>1.0</td>\n",
       "      <td>0</td>\n",
       "      <td>0</td>\n",
       "      <td>4</td>\n",
       "      <td>1280</td>\n",
       "      <td>1230</td>\n",
       "      <td>1961</td>\n",
       "      <td>2001</td>\n",
       "      <td>WA 98033</td>\n",
       "    </tr>\n",
       "  </tbody>\n",
       "</table>\n",
       "</div>"
      ],
      "text/plain": [
       "         price  bedrooms  bathrooms  sqft_living  sqft_lot  floors  \\\n",
       "11   1400000.0       4.0       2.50         2920      4000     1.5   \n",
       "172   407000.0       4.0       2.25         2810     23400     1.0   \n",
       "207   360000.0       4.0       2.00         2680     18768     1.0   \n",
       "257   749950.0       4.0       2.75         2600      6050     2.0   \n",
       "261   581000.0       4.0       2.00         2510     13695     1.0   \n",
       "\n",
       "     waterfront  view  condition  sqft_above  sqft_basement  yr_built  \\\n",
       "11            0     0          5        1910           1010      1909   \n",
       "172           0     1          3        1710           1100      1958   \n",
       "207           0     0          5        2680              0      1965   \n",
       "257           0     0          5        1960            640      1949   \n",
       "261           0     0          4        1280           1230      1961   \n",
       "\n",
       "     yr_renovated  statezip  \n",
       "11           1988  WA 98105  \n",
       "172          2004  WA 98198  \n",
       "207             0  WA 98001  \n",
       "257             0  WA 98116  \n",
       "261          2001  WA 98033  "
      ]
     },
     "execution_count": 27,
     "metadata": {},
     "output_type": "execute_result"
    }
   ],
   "source": [
    "sim_from_ori.head()"
   ]
  },
  {
   "cell_type": "markdown",
   "metadata": {
    "papermill": {
     "duration": 0.099304,
     "end_time": "2020-11-14T12:26:51.091507",
     "exception": false,
     "start_time": "2020-11-14T12:26:50.992203",
     "status": "completed"
    },
    "tags": []
   },
   "source": [
    "Get the average price of these instances"
   ]
  },
  {
   "cell_type": "code",
   "execution_count": 28,
   "metadata": {
    "execution": {
     "iopub.execute_input": "2020-11-14T12:26:51.296265Z",
     "iopub.status.busy": "2020-11-14T12:26:51.295267Z",
     "iopub.status.idle": "2020-11-14T12:26:51.299580Z",
     "shell.execute_reply": "2020-11-14T12:26:51.300190Z"
    },
    "papermill": {
     "duration": 0.109488,
     "end_time": "2020-11-14T12:26:51.300343",
     "exception": false,
     "start_time": "2020-11-14T12:26:51.190855",
     "status": "completed"
    },
    "tags": []
   },
   "outputs": [
    {
     "data": {
      "text/plain": [
       "735475.0370705189"
      ]
     },
     "execution_count": 28,
     "metadata": {},
     "output_type": "execute_result"
    }
   ],
   "source": [
    "sim_from_ori.price.mean()"
   ]
  },
  {
   "cell_type": "markdown",
   "metadata": {
    "papermill": {
     "duration": 0.099446,
     "end_time": "2020-11-14T12:26:51.499411",
     "exception": false,
     "start_time": "2020-11-14T12:26:51.399965",
     "status": "completed"
    },
    "tags": []
   },
   "source": [
    "Let's confirm this by comparing with the other house price of the same yr_built and having similar sq_ft"
   ]
  },
  {
   "cell_type": "code",
   "execution_count": 29,
   "metadata": {
    "execution": {
     "iopub.execute_input": "2020-11-14T12:26:51.706351Z",
     "iopub.status.busy": "2020-11-14T12:26:51.705537Z",
     "iopub.status.idle": "2020-11-14T12:26:51.715060Z",
     "shell.execute_reply": "2020-11-14T12:26:51.714398Z"
    },
    "papermill": {
     "duration": 0.11633,
     "end_time": "2020-11-14T12:26:51.715184",
     "exception": false,
     "start_time": "2020-11-14T12:26:51.598854",
     "status": "completed"
    },
    "tags": []
   },
   "outputs": [],
   "source": [
    "yr_sqft = df[(df.sqft_living > 2499) & (df.sqft_living < 2900)].copy()\n",
    "yr_price_avg = yr_sqft.groupby('yr_built').price.agg('mean')"
   ]
  },
  {
   "cell_type": "code",
   "execution_count": 30,
   "metadata": {
    "execution": {
     "iopub.execute_input": "2020-11-14T12:26:51.929174Z",
     "iopub.status.busy": "2020-11-14T12:26:51.928357Z",
     "iopub.status.idle": "2020-11-14T12:26:52.085659Z",
     "shell.execute_reply": "2020-11-14T12:26:52.084905Z"
    },
    "papermill": {
     "duration": 0.270025,
     "end_time": "2020-11-14T12:26:52.085785",
     "exception": false,
     "start_time": "2020-11-14T12:26:51.815760",
     "status": "completed"
    },
    "tags": []
   },
   "outputs": [
    {
     "data": {
      "text/plain": [
       "[<matplotlib.lines.Line2D at 0x7fd209314bd0>]"
      ]
     },
     "execution_count": 30,
     "metadata": {},
     "output_type": "execute_result"
    },
    {
     "data": {
      "image/png": "[encoded data removed]",
      "text/plain": [
       "<Figure size 432x288 with 1 Axes>"
      ]
     },
     "metadata": {
      "needs_background": "light"
     },
     "output_type": "display_data"
    }
   ],
   "source": [
    "plt.plot(yr_price_avg)"
   ]
  },
  {
   "cell_type": "markdown",
   "metadata": {
    "papermill": {
     "duration": 0.10263,
     "end_time": "2020-11-14T12:26:52.289772",
     "exception": false,
     "start_time": "2020-11-14T12:26:52.187142",
     "status": "completed"
    },
    "tags": []
   },
   "source": [
    "*This confirms our assumption. The avg. pricing of such houses is between 600000 to 800000*"
   ]
  },
  {
   "cell_type": "markdown",
   "metadata": {
    "papermill": {
     "duration": 0.100857,
     "end_time": "2020-11-14T12:26:52.491812",
     "exception": false,
     "start_time": "2020-11-14T12:26:52.390955",
     "status": "completed"
    },
    "tags": []
   },
   "source": [
    "**Replacing all 0 price values with $730000**"
   ]
  },
  {
   "cell_type": "code",
   "execution_count": 31,
   "metadata": {
    "execution": {
     "iopub.execute_input": "2020-11-14T12:26:52.704113Z",
     "iopub.status.busy": "2020-11-14T12:26:52.703014Z",
     "iopub.status.idle": "2020-11-14T12:26:52.707490Z",
     "shell.execute_reply": "2020-11-14T12:26:52.706786Z"
    },
    "papermill": {
     "duration": 0.114256,
     "end_time": "2020-11-14T12:26:52.707625",
     "exception": false,
     "start_time": "2020-11-14T12:26:52.593369",
     "status": "completed"
    },
    "tags": []
   },
   "outputs": [
    {
     "data": {
      "text/plain": [
       "0"
      ]
     },
     "execution_count": 31,
     "metadata": {},
     "output_type": "execute_result"
    }
   ],
   "source": [
    "df.price.replace(to_replace = 0, value = 735000, inplace = True)\n",
    "len(df[(df.price == 0)])"
   ]
  },
  {
   "cell_type": "code",
   "execution_count": 32,
   "metadata": {
    "execution": {
     "iopub.execute_input": "2020-11-14T12:26:52.934512Z",
     "iopub.status.busy": "2020-11-14T12:26:52.933411Z",
     "iopub.status.idle": "2020-11-14T12:26:52.937390Z",
     "shell.execute_reply": "2020-11-14T12:26:52.938149Z"
    },
    "papermill": {
     "duration": 0.12784,
     "end_time": "2020-11-14T12:26:52.938312",
     "exception": false,
     "start_time": "2020-11-14T12:26:52.810472",
     "status": "completed"
    },
    "tags": []
   },
   "outputs": [
    {
     "data": {
      "text/html": [
       "<div>\n",
       "<style scoped>\n",
       "    .dataframe tbody tr th:only-of-type {\n",
       "        vertical-align: middle;\n",
       "    }\n",
       "\n",
       "    .dataframe tbody tr th {\n",
       "        vertical-align: top;\n",
       "    }\n",
       "\n",
       "    .dataframe thead th {\n",
       "        text-align: right;\n",
       "    }\n",
       "</style>\n",
       "<table border=\"1\" class=\"dataframe\">\n",
       "  <thead>\n",
       "    <tr style=\"text-align: right;\">\n",
       "      <th></th>\n",
       "      <th>price</th>\n",
       "      <th>bedrooms</th>\n",
       "      <th>bathrooms</th>\n",
       "      <th>sqft_living</th>\n",
       "      <th>sqft_lot</th>\n",
       "      <th>floors</th>\n",
       "      <th>waterfront</th>\n",
       "      <th>view</th>\n",
       "      <th>condition</th>\n",
       "      <th>sqft_above</th>\n",
       "      <th>sqft_basement</th>\n",
       "      <th>yr_built</th>\n",
       "      <th>yr_renovated</th>\n",
       "      <th>statezip</th>\n",
       "    </tr>\n",
       "  </thead>\n",
       "  <tbody>\n",
       "    <tr>\n",
       "      <th>0</th>\n",
       "      <td>313000.0</td>\n",
       "      <td>3.0</td>\n",
       "      <td>1.50</td>\n",
       "      <td>1340</td>\n",
       "      <td>7912</td>\n",
       "      <td>1.5</td>\n",
       "      <td>0</td>\n",
       "      <td>0</td>\n",
       "      <td>3</td>\n",
       "      <td>1340</td>\n",
       "      <td>0</td>\n",
       "      <td>1955</td>\n",
       "      <td>2005</td>\n",
       "      <td>WA 98133</td>\n",
       "    </tr>\n",
       "    <tr>\n",
       "      <th>1</th>\n",
       "      <td>2384000.0</td>\n",
       "      <td>5.0</td>\n",
       "      <td>2.50</td>\n",
       "      <td>3650</td>\n",
       "      <td>9050</td>\n",
       "      <td>2.0</td>\n",
       "      <td>0</td>\n",
       "      <td>4</td>\n",
       "      <td>5</td>\n",
       "      <td>3370</td>\n",
       "      <td>280</td>\n",
       "      <td>1921</td>\n",
       "      <td>0</td>\n",
       "      <td>WA 98119</td>\n",
       "    </tr>\n",
       "    <tr>\n",
       "      <th>2</th>\n",
       "      <td>342000.0</td>\n",
       "      <td>3.0</td>\n",
       "      <td>2.00</td>\n",
       "      <td>1930</td>\n",
       "      <td>11947</td>\n",
       "      <td>1.0</td>\n",
       "      <td>0</td>\n",
       "      <td>0</td>\n",
       "      <td>4</td>\n",
       "      <td>1930</td>\n",
       "      <td>0</td>\n",
       "      <td>1966</td>\n",
       "      <td>0</td>\n",
       "      <td>WA 98042</td>\n",
       "    </tr>\n",
       "    <tr>\n",
       "      <th>3</th>\n",
       "      <td>420000.0</td>\n",
       "      <td>3.0</td>\n",
       "      <td>2.25</td>\n",
       "      <td>2000</td>\n",
       "      <td>8030</td>\n",
       "      <td>1.0</td>\n",
       "      <td>0</td>\n",
       "      <td>0</td>\n",
       "      <td>4</td>\n",
       "      <td>1000</td>\n",
       "      <td>1000</td>\n",
       "      <td>1963</td>\n",
       "      <td>0</td>\n",
       "      <td>WA 98008</td>\n",
       "    </tr>\n",
       "    <tr>\n",
       "      <th>4</th>\n",
       "      <td>550000.0</td>\n",
       "      <td>4.0</td>\n",
       "      <td>2.50</td>\n",
       "      <td>1940</td>\n",
       "      <td>10500</td>\n",
       "      <td>1.0</td>\n",
       "      <td>0</td>\n",
       "      <td>0</td>\n",
       "      <td>4</td>\n",
       "      <td>1140</td>\n",
       "      <td>800</td>\n",
       "      <td>1976</td>\n",
       "      <td>1992</td>\n",
       "      <td>WA 98052</td>\n",
       "    </tr>\n",
       "  </tbody>\n",
       "</table>\n",
       "</div>"
      ],
      "text/plain": [
       "       price  bedrooms  bathrooms  sqft_living  sqft_lot  floors  waterfront  \\\n",
       "0   313000.0       3.0       1.50         1340      7912     1.5           0   \n",
       "1  2384000.0       5.0       2.50         3650      9050     2.0           0   \n",
       "2   342000.0       3.0       2.00         1930     11947     1.0           0   \n",
       "3   420000.0       3.0       2.25         2000      8030     1.0           0   \n",
       "4   550000.0       4.0       2.50         1940     10500     1.0           0   \n",
       "\n",
       "   view  condition  sqft_above  sqft_basement  yr_built  yr_renovated  \\\n",
       "0     0          3        1340              0      1955          2005   \n",
       "1     4          5        3370            280      1921             0   \n",
       "2     0          4        1930              0      1966             0   \n",
       "3     0          4        1000           1000      1963             0   \n",
       "4     0          4        1140            800      1976          1992   \n",
       "\n",
       "   statezip  \n",
       "0  WA 98133  \n",
       "1  WA 98119  \n",
       "2  WA 98042  \n",
       "3  WA 98008  \n",
       "4  WA 98052  "
      ]
     },
     "execution_count": 32,
     "metadata": {},
     "output_type": "execute_result"
    }
   ],
   "source": [
    "df.head()"
   ]
  },
  {
   "cell_type": "markdown",
   "metadata": {
    "papermill": {
     "duration": 0.104377,
     "end_time": "2020-11-14T12:26:53.145545",
     "exception": false,
     "start_time": "2020-11-14T12:26:53.041168",
     "status": "completed"
    },
    "tags": []
   },
   "source": [
    "# Feature reduction"
   ]
  },
  {
   "cell_type": "markdown",
   "metadata": {
    "papermill": {
     "duration": 0.102666,
     "end_time": "2020-11-14T12:26:53.351166",
     "exception": false,
     "start_time": "2020-11-14T12:26:53.248500",
     "status": "completed"
    },
    "tags": []
   },
   "source": [
    "Since sqft_living is the most important feature and sqft_living & sqft_above are highly corellated we are going  to remove the sqft_above feature."
   ]
  },
  {
   "cell_type": "code",
   "execution_count": 33,
   "metadata": {
    "execution": {
     "iopub.execute_input": "2020-11-14T12:26:53.564620Z",
     "iopub.status.busy": "2020-11-14T12:26:53.563774Z",
     "iopub.status.idle": "2020-11-14T12:26:53.568657Z",
     "shell.execute_reply": "2020-11-14T12:26:53.567965Z"
    },
    "papermill": {
     "duration": 0.115245,
     "end_time": "2020-11-14T12:26:53.568796",
     "exception": false,
     "start_time": "2020-11-14T12:26:53.453551",
     "status": "completed"
    },
    "tags": []
   },
   "outputs": [
    {
     "data": {
      "text/plain": [
       "(4597, 13)"
      ]
     },
     "execution_count": 33,
     "metadata": {},
     "output_type": "execute_result"
    }
   ],
   "source": [
    "df.drop(['sqft_above'], axis = 1, inplace = True)\n",
    "df.shape"
   ]
  },
  {
   "cell_type": "markdown",
   "metadata": {
    "papermill": {
     "duration": 0.103751,
     "end_time": "2020-11-14T12:26:53.776848",
     "exception": false,
     "start_time": "2020-11-14T12:26:53.673097",
     "status": "completed"
    },
    "tags": []
   },
   "source": [
    "# Handling the index order\n",
    "By removing some rows our original dataset index is changed. Let's fix it"
   ]
  },
  {
   "cell_type": "code",
   "execution_count": 34,
   "metadata": {
    "execution": {
     "iopub.execute_input": "2020-11-14T12:26:53.991043Z",
     "iopub.status.busy": "2020-11-14T12:26:53.990248Z",
     "iopub.status.idle": "2020-11-14T12:26:54.005891Z",
     "shell.execute_reply": "2020-11-14T12:26:54.006493Z"
    },
    "papermill": {
     "duration": 0.125634,
     "end_time": "2020-11-14T12:26:54.006684",
     "exception": false,
     "start_time": "2020-11-14T12:26:53.881050",
     "status": "completed"
    },
    "tags": []
   },
   "outputs": [
    {
     "name": "stdout",
     "output_type": "stream",
     "text": [
      "<class 'pandas.core.frame.DataFrame'>\n",
      "RangeIndex: 4597 entries, 0 to 4596\n",
      "Data columns (total 14 columns):\n",
      " #   Column         Non-Null Count  Dtype  \n",
      "---  ------         --------------  -----  \n",
      " 0   index          4597 non-null   int64  \n",
      " 1   price          4597 non-null   float64\n",
      " 2   bedrooms       4597 non-null   float64\n",
      " 3   bathrooms      4597 non-null   float64\n",
      " 4   sqft_living    4597 non-null   int64  \n",
      " 5   sqft_lot       4597 non-null   int64  \n",
      " 6   floors         4597 non-null   float64\n",
      " 7   waterfront     4597 non-null   int64  \n",
      " 8   view           4597 non-null   int64  \n",
      " 9   condition      4597 non-null   int64  \n",
      " 10  sqft_basement  4597 non-null   int64  \n",
      " 11  yr_built       4597 non-null   int64  \n",
      " 12  yr_renovated   4597 non-null   int64  \n",
      " 13  statezip       4597 non-null   object \n",
      "dtypes: float64(4), int64(9), object(1)\n",
      "memory usage: 502.9+ KB\n"
     ]
    }
   ],
   "source": [
    "df = df.reset_index()\n",
    "df.info()"
   ]
  },
  {
   "cell_type": "markdown",
   "metadata": {
    "papermill": {
     "duration": 0.104089,
     "end_time": "2020-11-14T12:26:54.216149",
     "exception": false,
     "start_time": "2020-11-14T12:26:54.112060",
     "status": "completed"
    },
    "tags": []
   },
   "source": [
    "# Handling categorical statezip feature"
   ]
  },
  {
   "cell_type": "markdown",
   "metadata": {
    "papermill": {
     "duration": 0.104374,
     "end_time": "2020-11-14T12:26:54.425166",
     "exception": false,
     "start_time": "2020-11-14T12:26:54.320792",
     "status": "completed"
    },
    "tags": []
   },
   "source": [
    "Performing label encoder"
   ]
  },
  {
   "cell_type": "code",
   "execution_count": 35,
   "metadata": {
    "execution": {
     "iopub.execute_input": "2020-11-14T12:26:54.639690Z",
     "iopub.status.busy": "2020-11-14T12:26:54.638936Z",
     "iopub.status.idle": "2020-11-14T12:26:54.705394Z",
     "shell.execute_reply": "2020-11-14T12:26:54.704571Z"
    },
    "papermill": {
     "duration": 0.175869,
     "end_time": "2020-11-14T12:26:54.705517",
     "exception": false,
     "start_time": "2020-11-14T12:26:54.529648",
     "status": "completed"
    },
    "tags": []
   },
   "outputs": [],
   "source": [
    "from sklearn import preprocessing\n",
    "le = preprocessing.LabelEncoder()"
   ]
  },
  {
   "cell_type": "code",
   "execution_count": 36,
   "metadata": {
    "execution": {
     "iopub.execute_input": "2020-11-14T12:26:54.939438Z",
     "iopub.status.busy": "2020-11-14T12:26:54.938288Z",
     "iopub.status.idle": "2020-11-14T12:26:54.943148Z",
     "shell.execute_reply": "2020-11-14T12:26:54.942516Z"
    },
    "papermill": {
     "duration": 0.132432,
     "end_time": "2020-11-14T12:26:54.943270",
     "exception": false,
     "start_time": "2020-11-14T12:26:54.810838",
     "status": "completed"
    },
    "tags": []
   },
   "outputs": [
    {
     "data": {
      "text/html": [
       "<div>\n",
       "<style scoped>\n",
       "    .dataframe tbody tr th:only-of-type {\n",
       "        vertical-align: middle;\n",
       "    }\n",
       "\n",
       "    .dataframe tbody tr th {\n",
       "        vertical-align: top;\n",
       "    }\n",
       "\n",
       "    .dataframe thead th {\n",
       "        text-align: right;\n",
       "    }\n",
       "</style>\n",
       "<table border=\"1\" class=\"dataframe\">\n",
       "  <thead>\n",
       "    <tr style=\"text-align: right;\">\n",
       "      <th></th>\n",
       "      <th>index</th>\n",
       "      <th>price</th>\n",
       "      <th>bedrooms</th>\n",
       "      <th>bathrooms</th>\n",
       "      <th>sqft_living</th>\n",
       "      <th>sqft_lot</th>\n",
       "      <th>floors</th>\n",
       "      <th>waterfront</th>\n",
       "      <th>view</th>\n",
       "      <th>condition</th>\n",
       "      <th>sqft_basement</th>\n",
       "      <th>yr_built</th>\n",
       "      <th>yr_renovated</th>\n",
       "      <th>statezip</th>\n",
       "      <th>statezip_encoded</th>\n",
       "    </tr>\n",
       "  </thead>\n",
       "  <tbody>\n",
       "    <tr>\n",
       "      <th>0</th>\n",
       "      <td>0</td>\n",
       "      <td>313000.0</td>\n",
       "      <td>3.0</td>\n",
       "      <td>1.50</td>\n",
       "      <td>1340</td>\n",
       "      <td>7912</td>\n",
       "      <td>1.5</td>\n",
       "      <td>0</td>\n",
       "      <td>0</td>\n",
       "      <td>3</td>\n",
       "      <td>0</td>\n",
       "      <td>1955</td>\n",
       "      <td>2005</td>\n",
       "      <td>WA 98133</td>\n",
       "      <td>62</td>\n",
       "    </tr>\n",
       "    <tr>\n",
       "      <th>1</th>\n",
       "      <td>1</td>\n",
       "      <td>2384000.0</td>\n",
       "      <td>5.0</td>\n",
       "      <td>2.50</td>\n",
       "      <td>3650</td>\n",
       "      <td>9050</td>\n",
       "      <td>2.0</td>\n",
       "      <td>0</td>\n",
       "      <td>4</td>\n",
       "      <td>5</td>\n",
       "      <td>280</td>\n",
       "      <td>1921</td>\n",
       "      <td>0</td>\n",
       "      <td>WA 98119</td>\n",
       "      <td>58</td>\n",
       "    </tr>\n",
       "    <tr>\n",
       "      <th>2</th>\n",
       "      <td>2</td>\n",
       "      <td>342000.0</td>\n",
       "      <td>3.0</td>\n",
       "      <td>2.00</td>\n",
       "      <td>1930</td>\n",
       "      <td>11947</td>\n",
       "      <td>1.0</td>\n",
       "      <td>0</td>\n",
       "      <td>0</td>\n",
       "      <td>4</td>\n",
       "      <td>0</td>\n",
       "      <td>1966</td>\n",
       "      <td>0</td>\n",
       "      <td>WA 98042</td>\n",
       "      <td>26</td>\n",
       "    </tr>\n",
       "    <tr>\n",
       "      <th>3</th>\n",
       "      <td>3</td>\n",
       "      <td>420000.0</td>\n",
       "      <td>3.0</td>\n",
       "      <td>2.25</td>\n",
       "      <td>2000</td>\n",
       "      <td>8030</td>\n",
       "      <td>1.0</td>\n",
       "      <td>0</td>\n",
       "      <td>0</td>\n",
       "      <td>4</td>\n",
       "      <td>1000</td>\n",
       "      <td>1963</td>\n",
       "      <td>0</td>\n",
       "      <td>WA 98008</td>\n",
       "      <td>7</td>\n",
       "    </tr>\n",
       "    <tr>\n",
       "      <th>4</th>\n",
       "      <td>4</td>\n",
       "      <td>550000.0</td>\n",
       "      <td>4.0</td>\n",
       "      <td>2.50</td>\n",
       "      <td>1940</td>\n",
       "      <td>10500</td>\n",
       "      <td>1.0</td>\n",
       "      <td>0</td>\n",
       "      <td>0</td>\n",
       "      <td>4</td>\n",
       "      <td>800</td>\n",
       "      <td>1976</td>\n",
       "      <td>1992</td>\n",
       "      <td>WA 98052</td>\n",
       "      <td>31</td>\n",
       "    </tr>\n",
       "  </tbody>\n",
       "</table>\n",
       "</div>"
      ],
      "text/plain": [
       "   index      price  bedrooms  bathrooms  sqft_living  sqft_lot  floors  \\\n",
       "0      0   313000.0       3.0       1.50         1340      7912     1.5   \n",
       "1      1  2384000.0       5.0       2.50         3650      9050     2.0   \n",
       "2      2   342000.0       3.0       2.00         1930     11947     1.0   \n",
       "3      3   420000.0       3.0       2.25         2000      8030     1.0   \n",
       "4      4   550000.0       4.0       2.50         1940     10500     1.0   \n",
       "\n",
       "   waterfront  view  condition  sqft_basement  yr_built  yr_renovated  \\\n",
       "0           0     0          3              0      1955          2005   \n",
       "1           0     4          5            280      1921             0   \n",
       "2           0     0          4              0      1966             0   \n",
       "3           0     0          4           1000      1963             0   \n",
       "4           0     0          4            800      1976          1992   \n",
       "\n",
       "   statezip  statezip_encoded  \n",
       "0  WA 98133                62  \n",
       "1  WA 98119                58  \n",
       "2  WA 98042                26  \n",
       "3  WA 98008                 7  \n",
       "4  WA 98052                31  "
      ]
     },
     "execution_count": 36,
     "metadata": {},
     "output_type": "execute_result"
    }
   ],
   "source": [
    "df['statezip_encoded'] = le.fit_transform(df.statezip)\n",
    "df.head()"
   ]
  },
  {
   "cell_type": "markdown",
   "metadata": {
    "papermill": {
     "duration": 0.10698,
     "end_time": "2020-11-14T12:26:55.157223",
     "exception": false,
     "start_time": "2020-11-14T12:26:55.050243",
     "status": "completed"
    },
    "tags": []
   },
   "source": [
    "Let's confirm our label encoding"
   ]
  },
  {
   "cell_type": "code",
   "execution_count": 37,
   "metadata": {
    "execution": {
     "iopub.execute_input": "2020-11-14T12:26:55.380877Z",
     "iopub.status.busy": "2020-11-14T12:26:55.377448Z",
     "iopub.status.idle": "2020-11-14T12:26:55.385109Z",
     "shell.execute_reply": "2020-11-14T12:26:55.385715Z"
    },
    "papermill": {
     "duration": 0.120144,
     "end_time": "2020-11-14T12:26:55.385873",
     "exception": false,
     "start_time": "2020-11-14T12:26:55.265729",
     "status": "completed"
    },
    "tags": []
   },
   "outputs": [
    {
     "data": {
      "text/plain": [
       "47    147\n",
       "31    135\n",
       "56    132\n",
       "54    130\n",
       "5     110\n",
       "     ... \n",
       "28      6\n",
       "75      3\n",
       "29      2\n",
       "76      2\n",
       "39      1\n",
       "Name: statezip_encoded, Length: 77, dtype: int64"
      ]
     },
     "execution_count": 37,
     "metadata": {},
     "output_type": "execute_result"
    }
   ],
   "source": [
    "df.statezip_encoded.value_counts()"
   ]
  },
  {
   "cell_type": "markdown",
   "metadata": {
    "papermill": {
     "duration": 0.105874,
     "end_time": "2020-11-14T12:26:55.598458",
     "exception": false,
     "start_time": "2020-11-14T12:26:55.492584",
     "status": "completed"
    },
    "tags": []
   },
   "source": [
    "Drop the statezip field"
   ]
  },
  {
   "cell_type": "code",
   "execution_count": 38,
   "metadata": {
    "execution": {
     "iopub.execute_input": "2020-11-14T12:26:55.817459Z",
     "iopub.status.busy": "2020-11-14T12:26:55.816728Z",
     "iopub.status.idle": "2020-11-14T12:26:55.835463Z",
     "shell.execute_reply": "2020-11-14T12:26:55.836042Z"
    },
    "papermill": {
     "duration": 0.131808,
     "end_time": "2020-11-14T12:26:55.836212",
     "exception": false,
     "start_time": "2020-11-14T12:26:55.704404",
     "status": "completed"
    },
    "tags": []
   },
   "outputs": [
    {
     "data": {
      "text/html": [
       "<div>\n",
       "<style scoped>\n",
       "    .dataframe tbody tr th:only-of-type {\n",
       "        vertical-align: middle;\n",
       "    }\n",
       "\n",
       "    .dataframe tbody tr th {\n",
       "        vertical-align: top;\n",
       "    }\n",
       "\n",
       "    .dataframe thead th {\n",
       "        text-align: right;\n",
       "    }\n",
       "</style>\n",
       "<table border=\"1\" class=\"dataframe\">\n",
       "  <thead>\n",
       "    <tr style=\"text-align: right;\">\n",
       "      <th></th>\n",
       "      <th>index</th>\n",
       "      <th>price</th>\n",
       "      <th>bedrooms</th>\n",
       "      <th>bathrooms</th>\n",
       "      <th>sqft_living</th>\n",
       "      <th>sqft_lot</th>\n",
       "      <th>floors</th>\n",
       "      <th>waterfront</th>\n",
       "      <th>view</th>\n",
       "      <th>condition</th>\n",
       "      <th>sqft_basement</th>\n",
       "      <th>yr_built</th>\n",
       "      <th>yr_renovated</th>\n",
       "      <th>statezip_encoded</th>\n",
       "    </tr>\n",
       "  </thead>\n",
       "  <tbody>\n",
       "    <tr>\n",
       "      <th>0</th>\n",
       "      <td>0</td>\n",
       "      <td>313000.0</td>\n",
       "      <td>3.0</td>\n",
       "      <td>1.50</td>\n",
       "      <td>1340</td>\n",
       "      <td>7912</td>\n",
       "      <td>1.5</td>\n",
       "      <td>0</td>\n",
       "      <td>0</td>\n",
       "      <td>3</td>\n",
       "      <td>0</td>\n",
       "      <td>1955</td>\n",
       "      <td>2005</td>\n",
       "      <td>62</td>\n",
       "    </tr>\n",
       "    <tr>\n",
       "      <th>1</th>\n",
       "      <td>1</td>\n",
       "      <td>2384000.0</td>\n",
       "      <td>5.0</td>\n",
       "      <td>2.50</td>\n",
       "      <td>3650</td>\n",
       "      <td>9050</td>\n",
       "      <td>2.0</td>\n",
       "      <td>0</td>\n",
       "      <td>4</td>\n",
       "      <td>5</td>\n",
       "      <td>280</td>\n",
       "      <td>1921</td>\n",
       "      <td>0</td>\n",
       "      <td>58</td>\n",
       "    </tr>\n",
       "    <tr>\n",
       "      <th>2</th>\n",
       "      <td>2</td>\n",
       "      <td>342000.0</td>\n",
       "      <td>3.0</td>\n",
       "      <td>2.00</td>\n",
       "      <td>1930</td>\n",
       "      <td>11947</td>\n",
       "      <td>1.0</td>\n",
       "      <td>0</td>\n",
       "      <td>0</td>\n",
       "      <td>4</td>\n",
       "      <td>0</td>\n",
       "      <td>1966</td>\n",
       "      <td>0</td>\n",
       "      <td>26</td>\n",
       "    </tr>\n",
       "    <tr>\n",
       "      <th>3</th>\n",
       "      <td>3</td>\n",
       "      <td>420000.0</td>\n",
       "      <td>3.0</td>\n",
       "      <td>2.25</td>\n",
       "      <td>2000</td>\n",
       "      <td>8030</td>\n",
       "      <td>1.0</td>\n",
       "      <td>0</td>\n",
       "      <td>0</td>\n",
       "      <td>4</td>\n",
       "      <td>1000</td>\n",
       "      <td>1963</td>\n",
       "      <td>0</td>\n",
       "      <td>7</td>\n",
       "    </tr>\n",
       "    <tr>\n",
       "      <th>4</th>\n",
       "      <td>4</td>\n",
       "      <td>550000.0</td>\n",
       "      <td>4.0</td>\n",
       "      <td>2.50</td>\n",
       "      <td>1940</td>\n",
       "      <td>10500</td>\n",
       "      <td>1.0</td>\n",
       "      <td>0</td>\n",
       "      <td>0</td>\n",
       "      <td>4</td>\n",
       "      <td>800</td>\n",
       "      <td>1976</td>\n",
       "      <td>1992</td>\n",
       "      <td>31</td>\n",
       "    </tr>\n",
       "  </tbody>\n",
       "</table>\n",
       "</div>"
      ],
      "text/plain": [
       "   index      price  bedrooms  bathrooms  sqft_living  sqft_lot  floors  \\\n",
       "0      0   313000.0       3.0       1.50         1340      7912     1.5   \n",
       "1      1  2384000.0       5.0       2.50         3650      9050     2.0   \n",
       "2      2   342000.0       3.0       2.00         1930     11947     1.0   \n",
       "3      3   420000.0       3.0       2.25         2000      8030     1.0   \n",
       "4      4   550000.0       4.0       2.50         1940     10500     1.0   \n",
       "\n",
       "   waterfront  view  condition  sqft_basement  yr_built  yr_renovated  \\\n",
       "0           0     0          3              0      1955          2005   \n",
       "1           0     4          5            280      1921             0   \n",
       "2           0     0          4              0      1966             0   \n",
       "3           0     0          4           1000      1963             0   \n",
       "4           0     0          4            800      1976          1992   \n",
       "\n",
       "   statezip_encoded  \n",
       "0                62  \n",
       "1                58  \n",
       "2                26  \n",
       "3                 7  \n",
       "4                31  "
      ]
     },
     "execution_count": 38,
     "metadata": {},
     "output_type": "execute_result"
    }
   ],
   "source": [
    "df.drop(['statezip'], axis = 1, inplace = True)\n",
    "df.head()"
   ]
  },
  {
   "cell_type": "markdown",
   "metadata": {
    "papermill": {
     "duration": 0.121126,
     "end_time": "2020-11-14T12:26:56.064365",
     "exception": false,
     "start_time": "2020-11-14T12:26:55.943239",
     "status": "completed"
    },
    "tags": []
   },
   "source": [
    "**One hot encoding**"
   ]
  },
  {
   "cell_type": "code",
   "execution_count": 39,
   "metadata": {
    "execution": {
     "iopub.execute_input": "2020-11-14T12:26:56.291915Z",
     "iopub.status.busy": "2020-11-14T12:26:56.290990Z",
     "iopub.status.idle": "2020-11-14T12:26:56.293499Z",
     "shell.execute_reply": "2020-11-14T12:26:56.294040Z"
    },
    "papermill": {
     "duration": 0.1144,
     "end_time": "2020-11-14T12:26:56.294194",
     "exception": false,
     "start_time": "2020-11-14T12:26:56.179794",
     "status": "completed"
    },
    "tags": []
   },
   "outputs": [],
   "source": [
    "from sklearn.preprocessing import OneHotEncoder\n",
    "ohc = OneHotEncoder()"
   ]
  },
  {
   "cell_type": "code",
   "execution_count": 40,
   "metadata": {
    "execution": {
     "iopub.execute_input": "2020-11-14T12:26:56.515057Z",
     "iopub.status.busy": "2020-11-14T12:26:56.514294Z",
     "iopub.status.idle": "2020-11-14T12:26:56.549394Z",
     "shell.execute_reply": "2020-11-14T12:26:56.549933Z"
    },
    "papermill": {
     "duration": 0.149156,
     "end_time": "2020-11-14T12:26:56.550093",
     "exception": false,
     "start_time": "2020-11-14T12:26:56.400937",
     "status": "completed"
    },
    "tags": []
   },
   "outputs": [
    {
     "data": {
      "text/html": [
       "<div>\n",
       "<style scoped>\n",
       "    .dataframe tbody tr th:only-of-type {\n",
       "        vertical-align: middle;\n",
       "    }\n",
       "\n",
       "    .dataframe tbody tr th {\n",
       "        vertical-align: top;\n",
       "    }\n",
       "\n",
       "    .dataframe thead th {\n",
       "        text-align: right;\n",
       "    }\n",
       "</style>\n",
       "<table border=\"1\" class=\"dataframe\">\n",
       "  <thead>\n",
       "    <tr style=\"text-align: right;\">\n",
       "      <th></th>\n",
       "      <th>0</th>\n",
       "      <th>1</th>\n",
       "      <th>2</th>\n",
       "      <th>3</th>\n",
       "      <th>4</th>\n",
       "      <th>5</th>\n",
       "      <th>6</th>\n",
       "      <th>7</th>\n",
       "      <th>8</th>\n",
       "      <th>9</th>\n",
       "      <th>...</th>\n",
       "      <th>67</th>\n",
       "      <th>68</th>\n",
       "      <th>69</th>\n",
       "      <th>70</th>\n",
       "      <th>71</th>\n",
       "      <th>72</th>\n",
       "      <th>73</th>\n",
       "      <th>74</th>\n",
       "      <th>75</th>\n",
       "      <th>76</th>\n",
       "    </tr>\n",
       "  </thead>\n",
       "  <tbody>\n",
       "    <tr>\n",
       "      <th>0</th>\n",
       "      <td>0.0</td>\n",
       "      <td>0.0</td>\n",
       "      <td>0.0</td>\n",
       "      <td>0.0</td>\n",
       "      <td>0.0</td>\n",
       "      <td>0.0</td>\n",
       "      <td>0.0</td>\n",
       "      <td>0.0</td>\n",
       "      <td>0.0</td>\n",
       "      <td>0.0</td>\n",
       "      <td>...</td>\n",
       "      <td>0.0</td>\n",
       "      <td>0.0</td>\n",
       "      <td>0.0</td>\n",
       "      <td>0.0</td>\n",
       "      <td>0.0</td>\n",
       "      <td>0.0</td>\n",
       "      <td>0.0</td>\n",
       "      <td>0.0</td>\n",
       "      <td>0.0</td>\n",
       "      <td>0.0</td>\n",
       "    </tr>\n",
       "    <tr>\n",
       "      <th>1</th>\n",
       "      <td>0.0</td>\n",
       "      <td>0.0</td>\n",
       "      <td>0.0</td>\n",
       "      <td>0.0</td>\n",
       "      <td>0.0</td>\n",
       "      <td>0.0</td>\n",
       "      <td>0.0</td>\n",
       "      <td>0.0</td>\n",
       "      <td>0.0</td>\n",
       "      <td>0.0</td>\n",
       "      <td>...</td>\n",
       "      <td>0.0</td>\n",
       "      <td>0.0</td>\n",
       "      <td>0.0</td>\n",
       "      <td>0.0</td>\n",
       "      <td>0.0</td>\n",
       "      <td>0.0</td>\n",
       "      <td>0.0</td>\n",
       "      <td>0.0</td>\n",
       "      <td>0.0</td>\n",
       "      <td>0.0</td>\n",
       "    </tr>\n",
       "    <tr>\n",
       "      <th>2</th>\n",
       "      <td>0.0</td>\n",
       "      <td>0.0</td>\n",
       "      <td>0.0</td>\n",
       "      <td>0.0</td>\n",
       "      <td>0.0</td>\n",
       "      <td>0.0</td>\n",
       "      <td>0.0</td>\n",
       "      <td>0.0</td>\n",
       "      <td>0.0</td>\n",
       "      <td>0.0</td>\n",
       "      <td>...</td>\n",
       "      <td>0.0</td>\n",
       "      <td>0.0</td>\n",
       "      <td>0.0</td>\n",
       "      <td>0.0</td>\n",
       "      <td>0.0</td>\n",
       "      <td>0.0</td>\n",
       "      <td>0.0</td>\n",
       "      <td>0.0</td>\n",
       "      <td>0.0</td>\n",
       "      <td>0.0</td>\n",
       "    </tr>\n",
       "    <tr>\n",
       "      <th>3</th>\n",
       "      <td>0.0</td>\n",
       "      <td>0.0</td>\n",
       "      <td>0.0</td>\n",
       "      <td>0.0</td>\n",
       "      <td>0.0</td>\n",
       "      <td>0.0</td>\n",
       "      <td>0.0</td>\n",
       "      <td>1.0</td>\n",
       "      <td>0.0</td>\n",
       "      <td>0.0</td>\n",
       "      <td>...</td>\n",
       "      <td>0.0</td>\n",
       "      <td>0.0</td>\n",
       "      <td>0.0</td>\n",
       "      <td>0.0</td>\n",
       "      <td>0.0</td>\n",
       "      <td>0.0</td>\n",
       "      <td>0.0</td>\n",
       "      <td>0.0</td>\n",
       "      <td>0.0</td>\n",
       "      <td>0.0</td>\n",
       "    </tr>\n",
       "    <tr>\n",
       "      <th>4</th>\n",
       "      <td>0.0</td>\n",
       "      <td>0.0</td>\n",
       "      <td>0.0</td>\n",
       "      <td>0.0</td>\n",
       "      <td>0.0</td>\n",
       "      <td>0.0</td>\n",
       "      <td>0.0</td>\n",
       "      <td>0.0</td>\n",
       "      <td>0.0</td>\n",
       "      <td>0.0</td>\n",
       "      <td>...</td>\n",
       "      <td>0.0</td>\n",
       "      <td>0.0</td>\n",
       "      <td>0.0</td>\n",
       "      <td>0.0</td>\n",
       "      <td>0.0</td>\n",
       "      <td>0.0</td>\n",
       "      <td>0.0</td>\n",
       "      <td>0.0</td>\n",
       "      <td>0.0</td>\n",
       "      <td>0.0</td>\n",
       "    </tr>\n",
       "  </tbody>\n",
       "</table>\n",
       "<p>5 rows × 77 columns</p>\n",
       "</div>"
      ],
      "text/plain": [
       "    0    1    2    3    4    5    6    7    8    9   ...   67   68   69   70  \\\n",
       "0  0.0  0.0  0.0  0.0  0.0  0.0  0.0  0.0  0.0  0.0  ...  0.0  0.0  0.0  0.0   \n",
       "1  0.0  0.0  0.0  0.0  0.0  0.0  0.0  0.0  0.0  0.0  ...  0.0  0.0  0.0  0.0   \n",
       "2  0.0  0.0  0.0  0.0  0.0  0.0  0.0  0.0  0.0  0.0  ...  0.0  0.0  0.0  0.0   \n",
       "3  0.0  0.0  0.0  0.0  0.0  0.0  0.0  1.0  0.0  0.0  ...  0.0  0.0  0.0  0.0   \n",
       "4  0.0  0.0  0.0  0.0  0.0  0.0  0.0  0.0  0.0  0.0  ...  0.0  0.0  0.0  0.0   \n",
       "\n",
       "    71   72   73   74   75   76  \n",
       "0  0.0  0.0  0.0  0.0  0.0  0.0  \n",
       "1  0.0  0.0  0.0  0.0  0.0  0.0  \n",
       "2  0.0  0.0  0.0  0.0  0.0  0.0  \n",
       "3  0.0  0.0  0.0  0.0  0.0  0.0  \n",
       "4  0.0  0.0  0.0  0.0  0.0  0.0  \n",
       "\n",
       "[5 rows x 77 columns]"
      ]
     },
     "execution_count": 40,
     "metadata": {},
     "output_type": "execute_result"
    }
   ],
   "source": [
    "ohc_df = pd.DataFrame(ohc.fit_transform(df[['statezip_encoded']]).toarray())\n",
    "# ohc_df = ohc_df.astype(int)\n",
    "ohc_df.head()"
   ]
  },
  {
   "cell_type": "markdown",
   "metadata": {
    "papermill": {
     "duration": 0.1074,
     "end_time": "2020-11-14T12:26:56.765347",
     "exception": false,
     "start_time": "2020-11-14T12:26:56.657947",
     "status": "completed"
    },
    "tags": []
   },
   "source": [
    "Mergeing ohc_df into the main dataset"
   ]
  },
  {
   "cell_type": "code",
   "execution_count": 41,
   "metadata": {
    "execution": {
     "iopub.execute_input": "2020-11-14T12:26:57.000003Z",
     "iopub.status.busy": "2020-11-14T12:26:56.999171Z",
     "iopub.status.idle": "2020-11-14T12:26:57.031814Z",
     "shell.execute_reply": "2020-11-14T12:26:57.031199Z"
    },
    "papermill": {
     "duration": 0.150885,
     "end_time": "2020-11-14T12:26:57.031941",
     "exception": false,
     "start_time": "2020-11-14T12:26:56.881056",
     "status": "completed"
    },
    "tags": []
   },
   "outputs": [
    {
     "data": {
      "text/html": [
       "<div>\n",
       "<style scoped>\n",
       "    .dataframe tbody tr th:only-of-type {\n",
       "        vertical-align: middle;\n",
       "    }\n",
       "\n",
       "    .dataframe tbody tr th {\n",
       "        vertical-align: top;\n",
       "    }\n",
       "\n",
       "    .dataframe thead th {\n",
       "        text-align: right;\n",
       "    }\n",
       "</style>\n",
       "<table border=\"1\" class=\"dataframe\">\n",
       "  <thead>\n",
       "    <tr style=\"text-align: right;\">\n",
       "      <th></th>\n",
       "      <th>index</th>\n",
       "      <th>price</th>\n",
       "      <th>bedrooms</th>\n",
       "      <th>bathrooms</th>\n",
       "      <th>sqft_living</th>\n",
       "      <th>sqft_lot</th>\n",
       "      <th>floors</th>\n",
       "      <th>waterfront</th>\n",
       "      <th>view</th>\n",
       "      <th>condition</th>\n",
       "      <th>...</th>\n",
       "      <th>67</th>\n",
       "      <th>68</th>\n",
       "      <th>69</th>\n",
       "      <th>70</th>\n",
       "      <th>71</th>\n",
       "      <th>72</th>\n",
       "      <th>73</th>\n",
       "      <th>74</th>\n",
       "      <th>75</th>\n",
       "      <th>76</th>\n",
       "    </tr>\n",
       "  </thead>\n",
       "  <tbody>\n",
       "    <tr>\n",
       "      <th>0</th>\n",
       "      <td>0</td>\n",
       "      <td>313000.0</td>\n",
       "      <td>3.0</td>\n",
       "      <td>1.50</td>\n",
       "      <td>1340</td>\n",
       "      <td>7912</td>\n",
       "      <td>1.5</td>\n",
       "      <td>0</td>\n",
       "      <td>0</td>\n",
       "      <td>3</td>\n",
       "      <td>...</td>\n",
       "      <td>0.0</td>\n",
       "      <td>0.0</td>\n",
       "      <td>0.0</td>\n",
       "      <td>0.0</td>\n",
       "      <td>0.0</td>\n",
       "      <td>0.0</td>\n",
       "      <td>0.0</td>\n",
       "      <td>0.0</td>\n",
       "      <td>0.0</td>\n",
       "      <td>0.0</td>\n",
       "    </tr>\n",
       "    <tr>\n",
       "      <th>1</th>\n",
       "      <td>1</td>\n",
       "      <td>2384000.0</td>\n",
       "      <td>5.0</td>\n",
       "      <td>2.50</td>\n",
       "      <td>3650</td>\n",
       "      <td>9050</td>\n",
       "      <td>2.0</td>\n",
       "      <td>0</td>\n",
       "      <td>4</td>\n",
       "      <td>5</td>\n",
       "      <td>...</td>\n",
       "      <td>0.0</td>\n",
       "      <td>0.0</td>\n",
       "      <td>0.0</td>\n",
       "      <td>0.0</td>\n",
       "      <td>0.0</td>\n",
       "      <td>0.0</td>\n",
       "      <td>0.0</td>\n",
       "      <td>0.0</td>\n",
       "      <td>0.0</td>\n",
       "      <td>0.0</td>\n",
       "    </tr>\n",
       "    <tr>\n",
       "      <th>2</th>\n",
       "      <td>2</td>\n",
       "      <td>342000.0</td>\n",
       "      <td>3.0</td>\n",
       "      <td>2.00</td>\n",
       "      <td>1930</td>\n",
       "      <td>11947</td>\n",
       "      <td>1.0</td>\n",
       "      <td>0</td>\n",
       "      <td>0</td>\n",
       "      <td>4</td>\n",
       "      <td>...</td>\n",
       "      <td>0.0</td>\n",
       "      <td>0.0</td>\n",
       "      <td>0.0</td>\n",
       "      <td>0.0</td>\n",
       "      <td>0.0</td>\n",
       "      <td>0.0</td>\n",
       "      <td>0.0</td>\n",
       "      <td>0.0</td>\n",
       "      <td>0.0</td>\n",
       "      <td>0.0</td>\n",
       "    </tr>\n",
       "    <tr>\n",
       "      <th>3</th>\n",
       "      <td>3</td>\n",
       "      <td>420000.0</td>\n",
       "      <td>3.0</td>\n",
       "      <td>2.25</td>\n",
       "      <td>2000</td>\n",
       "      <td>8030</td>\n",
       "      <td>1.0</td>\n",
       "      <td>0</td>\n",
       "      <td>0</td>\n",
       "      <td>4</td>\n",
       "      <td>...</td>\n",
       "      <td>0.0</td>\n",
       "      <td>0.0</td>\n",
       "      <td>0.0</td>\n",
       "      <td>0.0</td>\n",
       "      <td>0.0</td>\n",
       "      <td>0.0</td>\n",
       "      <td>0.0</td>\n",
       "      <td>0.0</td>\n",
       "      <td>0.0</td>\n",
       "      <td>0.0</td>\n",
       "    </tr>\n",
       "    <tr>\n",
       "      <th>4</th>\n",
       "      <td>4</td>\n",
       "      <td>550000.0</td>\n",
       "      <td>4.0</td>\n",
       "      <td>2.50</td>\n",
       "      <td>1940</td>\n",
       "      <td>10500</td>\n",
       "      <td>1.0</td>\n",
       "      <td>0</td>\n",
       "      <td>0</td>\n",
       "      <td>4</td>\n",
       "      <td>...</td>\n",
       "      <td>0.0</td>\n",
       "      <td>0.0</td>\n",
       "      <td>0.0</td>\n",
       "      <td>0.0</td>\n",
       "      <td>0.0</td>\n",
       "      <td>0.0</td>\n",
       "      <td>0.0</td>\n",
       "      <td>0.0</td>\n",
       "      <td>0.0</td>\n",
       "      <td>0.0</td>\n",
       "    </tr>\n",
       "  </tbody>\n",
       "</table>\n",
       "<p>5 rows × 91 columns</p>\n",
       "</div>"
      ],
      "text/plain": [
       "   index      price  bedrooms  bathrooms  sqft_living  sqft_lot  floors  \\\n",
       "0      0   313000.0       3.0       1.50         1340      7912     1.5   \n",
       "1      1  2384000.0       5.0       2.50         3650      9050     2.0   \n",
       "2      2   342000.0       3.0       2.00         1930     11947     1.0   \n",
       "3      3   420000.0       3.0       2.25         2000      8030     1.0   \n",
       "4      4   550000.0       4.0       2.50         1940     10500     1.0   \n",
       "\n",
       "   waterfront  view  condition  ...   67   68   69   70   71   72   73   74  \\\n",
       "0           0     0          3  ...  0.0  0.0  0.0  0.0  0.0  0.0  0.0  0.0   \n",
       "1           0     4          5  ...  0.0  0.0  0.0  0.0  0.0  0.0  0.0  0.0   \n",
       "2           0     0          4  ...  0.0  0.0  0.0  0.0  0.0  0.0  0.0  0.0   \n",
       "3           0     0          4  ...  0.0  0.0  0.0  0.0  0.0  0.0  0.0  0.0   \n",
       "4           0     0          4  ...  0.0  0.0  0.0  0.0  0.0  0.0  0.0  0.0   \n",
       "\n",
       "    75   76  \n",
       "0  0.0  0.0  \n",
       "1  0.0  0.0  \n",
       "2  0.0  0.0  \n",
       "3  0.0  0.0  \n",
       "4  0.0  0.0  \n",
       "\n",
       "[5 rows x 91 columns]"
      ]
     },
     "execution_count": 41,
     "metadata": {},
     "output_type": "execute_result"
    }
   ],
   "source": [
    "df = df.join(ohc_df)\n",
    "df.head()"
   ]
  },
  {
   "cell_type": "code",
   "execution_count": 42,
   "metadata": {
    "execution": {
     "iopub.execute_input": "2020-11-14T12:26:57.270002Z",
     "iopub.status.busy": "2020-11-14T12:26:57.267510Z",
     "iopub.status.idle": "2020-11-14T12:26:57.289377Z",
     "shell.execute_reply": "2020-11-14T12:26:57.288674Z"
    },
    "papermill": {
     "duration": 0.146985,
     "end_time": "2020-11-14T12:26:57.289494",
     "exception": false,
     "start_time": "2020-11-14T12:26:57.142509",
     "status": "completed"
    },
    "tags": []
   },
   "outputs": [
    {
     "data": {
      "text/html": [
       "<div>\n",
       "<style scoped>\n",
       "    .dataframe tbody tr th:only-of-type {\n",
       "        vertical-align: middle;\n",
       "    }\n",
       "\n",
       "    .dataframe tbody tr th {\n",
       "        vertical-align: top;\n",
       "    }\n",
       "\n",
       "    .dataframe thead th {\n",
       "        text-align: right;\n",
       "    }\n",
       "</style>\n",
       "<table border=\"1\" class=\"dataframe\">\n",
       "  <thead>\n",
       "    <tr style=\"text-align: right;\">\n",
       "      <th></th>\n",
       "      <th>index</th>\n",
       "      <th>price</th>\n",
       "      <th>bedrooms</th>\n",
       "      <th>bathrooms</th>\n",
       "      <th>sqft_living</th>\n",
       "      <th>sqft_lot</th>\n",
       "      <th>floors</th>\n",
       "      <th>waterfront</th>\n",
       "      <th>view</th>\n",
       "      <th>condition</th>\n",
       "      <th>...</th>\n",
       "      <th>67</th>\n",
       "      <th>68</th>\n",
       "      <th>69</th>\n",
       "      <th>70</th>\n",
       "      <th>71</th>\n",
       "      <th>72</th>\n",
       "      <th>73</th>\n",
       "      <th>74</th>\n",
       "      <th>75</th>\n",
       "      <th>76</th>\n",
       "    </tr>\n",
       "  </thead>\n",
       "  <tbody>\n",
       "    <tr>\n",
       "      <th>4592</th>\n",
       "      <td>4595</td>\n",
       "      <td>308166.666667</td>\n",
       "      <td>3.0</td>\n",
       "      <td>1.75</td>\n",
       "      <td>1510</td>\n",
       "      <td>6360</td>\n",
       "      <td>1.0</td>\n",
       "      <td>0</td>\n",
       "      <td>0</td>\n",
       "      <td>4</td>\n",
       "      <td>...</td>\n",
       "      <td>0.0</td>\n",
       "      <td>0.0</td>\n",
       "      <td>0.0</td>\n",
       "      <td>0.0</td>\n",
       "      <td>0.0</td>\n",
       "      <td>0.0</td>\n",
       "      <td>0.0</td>\n",
       "      <td>0.0</td>\n",
       "      <td>0.0</td>\n",
       "      <td>0.0</td>\n",
       "    </tr>\n",
       "    <tr>\n",
       "      <th>4593</th>\n",
       "      <td>4596</td>\n",
       "      <td>534333.333333</td>\n",
       "      <td>3.0</td>\n",
       "      <td>2.50</td>\n",
       "      <td>1460</td>\n",
       "      <td>7573</td>\n",
       "      <td>2.0</td>\n",
       "      <td>0</td>\n",
       "      <td>0</td>\n",
       "      <td>3</td>\n",
       "      <td>...</td>\n",
       "      <td>0.0</td>\n",
       "      <td>0.0</td>\n",
       "      <td>0.0</td>\n",
       "      <td>0.0</td>\n",
       "      <td>0.0</td>\n",
       "      <td>0.0</td>\n",
       "      <td>0.0</td>\n",
       "      <td>0.0</td>\n",
       "      <td>0.0</td>\n",
       "      <td>0.0</td>\n",
       "    </tr>\n",
       "    <tr>\n",
       "      <th>4594</th>\n",
       "      <td>4597</td>\n",
       "      <td>416904.166667</td>\n",
       "      <td>3.0</td>\n",
       "      <td>2.50</td>\n",
       "      <td>3010</td>\n",
       "      <td>7014</td>\n",
       "      <td>2.0</td>\n",
       "      <td>0</td>\n",
       "      <td>0</td>\n",
       "      <td>3</td>\n",
       "      <td>...</td>\n",
       "      <td>0.0</td>\n",
       "      <td>0.0</td>\n",
       "      <td>0.0</td>\n",
       "      <td>0.0</td>\n",
       "      <td>0.0</td>\n",
       "      <td>0.0</td>\n",
       "      <td>0.0</td>\n",
       "      <td>0.0</td>\n",
       "      <td>0.0</td>\n",
       "      <td>0.0</td>\n",
       "    </tr>\n",
       "    <tr>\n",
       "      <th>4595</th>\n",
       "      <td>4598</td>\n",
       "      <td>203400.000000</td>\n",
       "      <td>4.0</td>\n",
       "      <td>2.00</td>\n",
       "      <td>2090</td>\n",
       "      <td>6630</td>\n",
       "      <td>1.0</td>\n",
       "      <td>0</td>\n",
       "      <td>0</td>\n",
       "      <td>3</td>\n",
       "      <td>...</td>\n",
       "      <td>0.0</td>\n",
       "      <td>0.0</td>\n",
       "      <td>0.0</td>\n",
       "      <td>0.0</td>\n",
       "      <td>1.0</td>\n",
       "      <td>0.0</td>\n",
       "      <td>0.0</td>\n",
       "      <td>0.0</td>\n",
       "      <td>0.0</td>\n",
       "      <td>0.0</td>\n",
       "    </tr>\n",
       "    <tr>\n",
       "      <th>4596</th>\n",
       "      <td>4599</td>\n",
       "      <td>220600.000000</td>\n",
       "      <td>3.0</td>\n",
       "      <td>2.50</td>\n",
       "      <td>1490</td>\n",
       "      <td>8102</td>\n",
       "      <td>2.0</td>\n",
       "      <td>0</td>\n",
       "      <td>0</td>\n",
       "      <td>4</td>\n",
       "      <td>...</td>\n",
       "      <td>0.0</td>\n",
       "      <td>0.0</td>\n",
       "      <td>0.0</td>\n",
       "      <td>0.0</td>\n",
       "      <td>0.0</td>\n",
       "      <td>0.0</td>\n",
       "      <td>0.0</td>\n",
       "      <td>0.0</td>\n",
       "      <td>0.0</td>\n",
       "      <td>0.0</td>\n",
       "    </tr>\n",
       "  </tbody>\n",
       "</table>\n",
       "<p>5 rows × 91 columns</p>\n",
       "</div>"
      ],
      "text/plain": [
       "      index          price  bedrooms  bathrooms  sqft_living  sqft_lot  \\\n",
       "4592   4595  308166.666667       3.0       1.75         1510      6360   \n",
       "4593   4596  534333.333333       3.0       2.50         1460      7573   \n",
       "4594   4597  416904.166667       3.0       2.50         3010      7014   \n",
       "4595   4598  203400.000000       4.0       2.00         2090      6630   \n",
       "4596   4599  220600.000000       3.0       2.50         1490      8102   \n",
       "\n",
       "      floors  waterfront  view  condition  ...   67   68   69   70   71   72  \\\n",
       "4592     1.0           0     0          4  ...  0.0  0.0  0.0  0.0  0.0  0.0   \n",
       "4593     2.0           0     0          3  ...  0.0  0.0  0.0  0.0  0.0  0.0   \n",
       "4594     2.0           0     0          3  ...  0.0  0.0  0.0  0.0  0.0  0.0   \n",
       "4595     1.0           0     0          3  ...  0.0  0.0  0.0  0.0  1.0  0.0   \n",
       "4596     2.0           0     0          4  ...  0.0  0.0  0.0  0.0  0.0  0.0   \n",
       "\n",
       "       73   74   75   76  \n",
       "4592  0.0  0.0  0.0  0.0  \n",
       "4593  0.0  0.0  0.0  0.0  \n",
       "4594  0.0  0.0  0.0  0.0  \n",
       "4595  0.0  0.0  0.0  0.0  \n",
       "4596  0.0  0.0  0.0  0.0  \n",
       "\n",
       "[5 rows x 91 columns]"
      ]
     },
     "execution_count": 42,
     "metadata": {},
     "output_type": "execute_result"
    }
   ],
   "source": [
    "df.tail()"
   ]
  },
  {
   "cell_type": "markdown",
   "metadata": {
    "papermill": {
     "duration": 0.109141,
     "end_time": "2020-11-14T12:26:57.508237",
     "exception": false,
     "start_time": "2020-11-14T12:26:57.399096",
     "status": "completed"
    },
    "tags": []
   },
   "source": [
    "Drop the statezip_encoded field"
   ]
  },
  {
   "cell_type": "code",
   "execution_count": 43,
   "metadata": {
    "execution": {
     "iopub.execute_input": "2020-11-14T12:26:57.735005Z",
     "iopub.status.busy": "2020-11-14T12:26:57.733710Z",
     "iopub.status.idle": "2020-11-14T12:26:57.746217Z",
     "shell.execute_reply": "2020-11-14T12:26:57.745572Z"
    },
    "papermill": {
     "duration": 0.128494,
     "end_time": "2020-11-14T12:26:57.746349",
     "exception": false,
     "start_time": "2020-11-14T12:26:57.617855",
     "status": "completed"
    },
    "tags": []
   },
   "outputs": [],
   "source": [
    "df.drop(['statezip_encoded'], axis = 1, inplace = True)"
   ]
  },
  {
   "cell_type": "code",
   "execution_count": 44,
   "metadata": {
    "execution": {
     "iopub.execute_input": "2020-11-14T12:26:57.977854Z",
     "iopub.status.busy": "2020-11-14T12:26:57.976968Z",
     "iopub.status.idle": "2020-11-14T12:26:57.996652Z",
     "shell.execute_reply": "2020-11-14T12:26:57.997181Z"
    },
    "papermill": {
     "duration": 0.139608,
     "end_time": "2020-11-14T12:26:57.997350",
     "exception": false,
     "start_time": "2020-11-14T12:26:57.857742",
     "status": "completed"
    },
    "tags": []
   },
   "outputs": [
    {
     "data": {
      "text/plain": [
       "<bound method DataFrame.info of       index         price  bedrooms  bathrooms  sqft_living  sqft_lot  floors  \\\n",
       "0         0  3.130000e+05       3.0       1.50         1340      7912     1.5   \n",
       "1         1  2.384000e+06       5.0       2.50         3650      9050     2.0   \n",
       "2         2  3.420000e+05       3.0       2.00         1930     11947     1.0   \n",
       "3         3  4.200000e+05       3.0       2.25         2000      8030     1.0   \n",
       "4         4  5.500000e+05       4.0       2.50         1940     10500     1.0   \n",
       "...     ...           ...       ...        ...          ...       ...     ...   \n",
       "4592   4595  3.081667e+05       3.0       1.75         1510      6360     1.0   \n",
       "4593   4596  5.343333e+05       3.0       2.50         1460      7573     2.0   \n",
       "4594   4597  4.169042e+05       3.0       2.50         3010      7014     2.0   \n",
       "4595   4598  2.034000e+05       4.0       2.00         2090      6630     1.0   \n",
       "4596   4599  2.206000e+05       3.0       2.50         1490      8102     2.0   \n",
       "\n",
       "      waterfront  view  condition  ...   67   68   69   70   71   72   73  \\\n",
       "0              0     0          3  ...  0.0  0.0  0.0  0.0  0.0  0.0  0.0   \n",
       "1              0     4          5  ...  0.0  0.0  0.0  0.0  0.0  0.0  0.0   \n",
       "2              0     0          4  ...  0.0  0.0  0.0  0.0  0.0  0.0  0.0   \n",
       "3              0     0          4  ...  0.0  0.0  0.0  0.0  0.0  0.0  0.0   \n",
       "4              0     0          4  ...  0.0  0.0  0.0  0.0  0.0  0.0  0.0   \n",
       "...          ...   ...        ...  ...  ...  ...  ...  ...  ...  ...  ...   \n",
       "4592           0     0          4  ...  0.0  0.0  0.0  0.0  0.0  0.0  0.0   \n",
       "4593           0     0          3  ...  0.0  0.0  0.0  0.0  0.0  0.0  0.0   \n",
       "4594           0     0          3  ...  0.0  0.0  0.0  0.0  0.0  0.0  0.0   \n",
       "4595           0     0          3  ...  0.0  0.0  0.0  0.0  1.0  0.0  0.0   \n",
       "4596           0     0          4  ...  0.0  0.0  0.0  0.0  0.0  0.0  0.0   \n",
       "\n",
       "       74   75   76  \n",
       "0     0.0  0.0  0.0  \n",
       "1     0.0  0.0  0.0  \n",
       "2     0.0  0.0  0.0  \n",
       "3     0.0  0.0  0.0  \n",
       "4     0.0  0.0  0.0  \n",
       "...   ...  ...  ...  \n",
       "4592  0.0  0.0  0.0  \n",
       "4593  0.0  0.0  0.0  \n",
       "4594  0.0  0.0  0.0  \n",
       "4595  0.0  0.0  0.0  \n",
       "4596  0.0  0.0  0.0  \n",
       "\n",
       "[4597 rows x 90 columns]>"
      ]
     },
     "execution_count": 44,
     "metadata": {},
     "output_type": "execute_result"
    }
   ],
   "source": [
    "df.info"
   ]
  },
  {
   "cell_type": "markdown",
   "metadata": {
    "papermill": {
     "duration": 0.110278,
     "end_time": "2020-11-14T12:26:58.221022",
     "exception": false,
     "start_time": "2020-11-14T12:26:58.110744",
     "status": "completed"
    },
    "tags": []
   },
   "source": [
    "# Splitting into train and test set"
   ]
  },
  {
   "cell_type": "code",
   "execution_count": 45,
   "metadata": {
    "execution": {
     "iopub.execute_input": "2020-11-14T12:26:58.465390Z",
     "iopub.status.busy": "2020-11-14T12:26:58.464366Z",
     "iopub.status.idle": "2020-11-14T12:26:58.469508Z",
     "shell.execute_reply": "2020-11-14T12:26:58.468881Z"
    },
    "papermill": {
     "duration": 0.129897,
     "end_time": "2020-11-14T12:26:58.469643",
     "exception": false,
     "start_time": "2020-11-14T12:26:58.339746",
     "status": "completed"
    },
    "tags": []
   },
   "outputs": [
    {
     "data": {
      "text/plain": [
       "(4597, 90)"
      ]
     },
     "execution_count": 45,
     "metadata": {},
     "output_type": "execute_result"
    }
   ],
   "source": [
    "df.shape"
   ]
  },
  {
   "cell_type": "code",
   "execution_count": 46,
   "metadata": {
    "execution": {
     "iopub.execute_input": "2020-11-14T12:26:58.733771Z",
     "iopub.status.busy": "2020-11-14T12:26:58.732593Z",
     "iopub.status.idle": "2020-11-14T12:26:58.737879Z",
     "shell.execute_reply": "2020-11-14T12:26:58.737098Z"
    },
    "papermill": {
     "duration": 0.147612,
     "end_time": "2020-11-14T12:26:58.738009",
     "exception": false,
     "start_time": "2020-11-14T12:26:58.590397",
     "status": "completed"
    },
    "tags": []
   },
   "outputs": [
    {
     "data": {
      "text/plain": [
       "(4597, 89)"
      ]
     },
     "execution_count": 46,
     "metadata": {},
     "output_type": "execute_result"
    }
   ],
   "source": [
    "X = df.iloc[:, 1:]\n",
    "X.shape"
   ]
  },
  {
   "cell_type": "code",
   "execution_count": 47,
   "metadata": {
    "execution": {
     "iopub.execute_input": "2020-11-14T12:26:59.015584Z",
     "iopub.status.busy": "2020-11-14T12:26:59.014591Z",
     "iopub.status.idle": "2020-11-14T12:26:59.018394Z",
     "shell.execute_reply": "2020-11-14T12:26:59.017591Z"
    },
    "papermill": {
     "duration": 0.153042,
     "end_time": "2020-11-14T12:26:59.018530",
     "exception": false,
     "start_time": "2020-11-14T12:26:58.865488",
     "status": "completed"
    },
    "tags": []
   },
   "outputs": [],
   "source": [
    "y = df.price"
   ]
  },
  {
   "cell_type": "markdown",
   "metadata": {
    "papermill": {
     "duration": 0.123339,
     "end_time": "2020-11-14T12:26:59.264586",
     "exception": false,
     "start_time": "2020-11-14T12:26:59.141247",
     "status": "completed"
    },
    "tags": []
   },
   "source": [
    "Splitting dataset into train and remainder"
   ]
  },
  {
   "cell_type": "code",
   "execution_count": 48,
   "metadata": {
    "execution": {
     "iopub.execute_input": "2020-11-14T12:26:59.507101Z",
     "iopub.status.busy": "2020-11-14T12:26:59.506307Z",
     "iopub.status.idle": "2020-11-14T12:26:59.568390Z",
     "shell.execute_reply": "2020-11-14T12:26:59.568951Z"
    },
    "papermill": {
     "duration": 0.185516,
     "end_time": "2020-11-14T12:26:59.569128",
     "exception": false,
     "start_time": "2020-11-14T12:26:59.383612",
     "status": "completed"
    },
    "tags": []
   },
   "outputs": [],
   "source": [
    "from sklearn.model_selection import train_test_split\n",
    "X_train, X_rem, y_train, y_rem = train_test_split(X, y, test_size=0.1, random_state=42)"
   ]
  },
  {
   "cell_type": "code",
   "execution_count": 49,
   "metadata": {
    "execution": {
     "iopub.execute_input": "2020-11-14T12:26:59.801642Z",
     "iopub.status.busy": "2020-11-14T12:26:59.800794Z",
     "iopub.status.idle": "2020-11-14T12:26:59.804150Z",
     "shell.execute_reply": "2020-11-14T12:26:59.804844Z"
    },
    "papermill": {
     "duration": 0.122838,
     "end_time": "2020-11-14T12:26:59.805002",
     "exception": false,
     "start_time": "2020-11-14T12:26:59.682164",
     "status": "completed"
    },
    "tags": []
   },
   "outputs": [
    {
     "name": "stdout",
     "output_type": "stream",
     "text": [
      "0.8999347400478573\n"
     ]
    }
   ],
   "source": [
    "print(len(X_train) / len(df))"
   ]
  },
  {
   "cell_type": "markdown",
   "metadata": {
    "papermill": {
     "duration": 0.114156,
     "end_time": "2020-11-14T12:27:00.033673",
     "exception": false,
     "start_time": "2020-11-14T12:26:59.919517",
     "status": "completed"
    },
    "tags": []
   },
   "source": [
    "Splitting remainder into validation and test set"
   ]
  },
  {
   "cell_type": "code",
   "execution_count": 50,
   "metadata": {
    "execution": {
     "iopub.execute_input": "2020-11-14T12:27:00.270943Z",
     "iopub.status.busy": "2020-11-14T12:27:00.270058Z",
     "iopub.status.idle": "2020-11-14T12:27:00.274037Z",
     "shell.execute_reply": "2020-11-14T12:27:00.273405Z"
    },
    "papermill": {
     "duration": 0.127202,
     "end_time": "2020-11-14T12:27:00.274162",
     "exception": false,
     "start_time": "2020-11-14T12:27:00.146960",
     "status": "completed"
    },
    "tags": []
   },
   "outputs": [
    {
     "name": "stdout",
     "output_type": "stream",
     "text": [
      "0.5\n"
     ]
    }
   ],
   "source": [
    "X_val, X_test, y_val, y_test = train_test_split(X_rem, y_rem, test_size=0.5, random_state=42)\n",
    "print(len(X_test) / len(y_rem))"
   ]
  },
  {
   "cell_type": "markdown",
   "metadata": {
    "papermill": {
     "duration": 0.113584,
     "end_time": "2020-11-14T12:27:00.501077",
     "exception": false,
     "start_time": "2020-11-14T12:27:00.387493",
     "status": "completed"
    },
    "tags": []
   },
   "source": [
    "Let's print the length of all the 3 splits"
   ]
  },
  {
   "cell_type": "code",
   "execution_count": 51,
   "metadata": {
    "execution": {
     "iopub.execute_input": "2020-11-14T12:27:00.734794Z",
     "iopub.status.busy": "2020-11-14T12:27:00.733849Z",
     "iopub.status.idle": "2020-11-14T12:27:00.738252Z",
     "shell.execute_reply": "2020-11-14T12:27:00.737163Z"
    },
    "papermill": {
     "duration": 0.123715,
     "end_time": "2020-11-14T12:27:00.738410",
     "exception": false,
     "start_time": "2020-11-14T12:27:00.614695",
     "status": "completed"
    },
    "tags": []
   },
   "outputs": [
    {
     "name": "stdout",
     "output_type": "stream",
     "text": [
      "4137\n",
      "230\n",
      "230\n"
     ]
    }
   ],
   "source": [
    "print(len(X_train))\n",
    "print(len(X_val))\n",
    "print(len(X_val))"
   ]
  },
  {
   "cell_type": "markdown",
   "metadata": {
    "papermill": {
     "duration": 0.11388,
     "end_time": "2020-11-14T12:27:00.967691",
     "exception": false,
     "start_time": "2020-11-14T12:27:00.853811",
     "status": "completed"
    },
    "tags": []
   },
   "source": [
    "# Linear regression"
   ]
  },
  {
   "cell_type": "code",
   "execution_count": 52,
   "metadata": {
    "execution": {
     "iopub.execute_input": "2020-11-14T12:27:01.205140Z",
     "iopub.status.busy": "2020-11-14T12:27:01.204353Z",
     "iopub.status.idle": "2020-11-14T12:27:01.290059Z",
     "shell.execute_reply": "2020-11-14T12:27:01.289243Z"
    },
    "papermill": {
     "duration": 0.206175,
     "end_time": "2020-11-14T12:27:01.290193",
     "exception": false,
     "start_time": "2020-11-14T12:27:01.084018",
     "status": "completed"
    },
    "tags": []
   },
   "outputs": [],
   "source": [
    "from sklearn.linear_model import LinearRegression\n",
    "lin_reg = LinearRegression()"
   ]
  },
  {
   "cell_type": "markdown",
   "metadata": {
    "papermill": {
     "duration": 0.115369,
     "end_time": "2020-11-14T12:27:01.521343",
     "exception": false,
     "start_time": "2020-11-14T12:27:01.405974",
     "status": "completed"
    },
    "tags": []
   },
   "source": [
    "Fitting the model"
   ]
  },
  {
   "cell_type": "code",
   "execution_count": 53,
   "metadata": {
    "execution": {
     "iopub.execute_input": "2020-11-14T12:27:01.761132Z",
     "iopub.status.busy": "2020-11-14T12:27:01.760295Z",
     "iopub.status.idle": "2020-11-14T12:27:01.831646Z",
     "shell.execute_reply": "2020-11-14T12:27:01.830908Z"
    },
    "papermill": {
     "duration": 0.19482,
     "end_time": "2020-11-14T12:27:01.831788",
     "exception": false,
     "start_time": "2020-11-14T12:27:01.636968",
     "status": "completed"
    },
    "tags": []
   },
   "outputs": [
    {
     "data": {
      "text/plain": [
       "LinearRegression()"
      ]
     },
     "execution_count": 53,
     "metadata": {},
     "output_type": "execute_result"
    }
   ],
   "source": [
    "lin_reg.fit(X_train, y_train)"
   ]
  },
  {
   "cell_type": "code",
   "execution_count": 54,
   "metadata": {
    "execution": {
     "iopub.execute_input": "2020-11-14T12:27:02.082013Z",
     "iopub.status.busy": "2020-11-14T12:27:02.077946Z",
     "iopub.status.idle": "2020-11-14T12:27:02.086455Z",
     "shell.execute_reply": "2020-11-14T12:27:02.087106Z"
    },
    "papermill": {
     "duration": 0.136882,
     "end_time": "2020-11-14T12:27:02.087278",
     "exception": false,
     "start_time": "2020-11-14T12:27:01.950396",
     "status": "completed"
    },
    "tags": []
   },
   "outputs": [
    {
     "data": {
      "text/plain": [
       "1.3324618990740053e-10"
      ]
     },
     "execution_count": 54,
     "metadata": {},
     "output_type": "execute_result"
    }
   ],
   "source": [
    "from sklearn.metrics import mean_squared_error\n",
    "y_pred = lin_reg.predict(X_val)\n",
    "mse = mean_squared_error(y_pred, y_val)\n",
    "rmse = np.sqrt(mse)\n",
    "rmse"
   ]
  },
  {
   "cell_type": "code",
   "execution_count": 55,
   "metadata": {
    "execution": {
     "iopub.execute_input": "2020-11-14T12:27:02.329113Z",
     "iopub.status.busy": "2020-11-14T12:27:02.327992Z",
     "iopub.status.idle": "2020-11-14T12:27:02.332476Z",
     "shell.execute_reply": "2020-11-14T12:27:02.331868Z"
    },
    "papermill": {
     "duration": 0.127758,
     "end_time": "2020-11-14T12:27:02.332621",
     "exception": false,
     "start_time": "2020-11-14T12:27:02.204863",
     "status": "completed"
    },
    "tags": []
   },
   "outputs": [
    {
     "data": {
      "text/plain": [
       "1073    175000.0\n",
       "4524    950100.0\n",
       "4434    309487.5\n",
       "2572    427000.0\n",
       "4310    375000.0\n",
       "4017    665000.0\n",
       "4241    759000.0\n",
       "3139    425000.0\n",
       "2283    325000.0\n",
       "4200    679000.0\n",
       "Name: price, dtype: float64"
      ]
     },
     "execution_count": 55,
     "metadata": {},
     "output_type": "execute_result"
    }
   ],
   "source": [
    "y_val.head(10)"
   ]
  },
  {
   "cell_type": "code",
   "execution_count": 56,
   "metadata": {
    "execution": {
     "iopub.execute_input": "2020-11-14T12:27:02.575338Z",
     "iopub.status.busy": "2020-11-14T12:27:02.574360Z",
     "iopub.status.idle": "2020-11-14T12:27:02.578544Z",
     "shell.execute_reply": "2020-11-14T12:27:02.579163Z"
    },
    "papermill": {
     "duration": 0.129762,
     "end_time": "2020-11-14T12:27:02.579316",
     "exception": false,
     "start_time": "2020-11-14T12:27:02.449554",
     "status": "completed"
    },
    "tags": []
   },
   "outputs": [
    {
     "data": {
      "text/plain": [
       "array([  175000.      ,   950100.      ,   309487.5     ,   427000.      ,\n",
       "         375000.      ,   665000.      ,   759000.      ,   425000.      ,\n",
       "         325000.      ,   679000.      ,   336000.      ,   630000.      ,\n",
       "         492000.      ,   842500.      ,   264000.      ,   383962.      ,\n",
       "         425000.      ,   925000.      ,   235000.      ,   648360.      ,\n",
       "         580000.      ,   615000.      ,   277000.      ,   225000.      ,\n",
       "        2000000.      ,   565000.      ,   740000.      ,   455000.      ,\n",
       "         385500.      ,   564000.      ,   645000.      ,   583000.      ,\n",
       "         360000.      ,   280000.      ,   285000.      ,   638000.      ,\n",
       "         223000.      ,   239950.      ,   450000.      ,   400000.      ,\n",
       "         375000.      ,   970000.      ,   560000.      ,   825000.      ,\n",
       "         888550.      ,   440000.      ,   199950.      ,   705380.      ,\n",
       "         285000.      ,   220000.      ,   480500.      ,   453246.      ,\n",
       "         716500.      ,   282766.666667,   735000.      ,   547500.      ,\n",
       "         245000.      ,   523950.      ,   318989.      ,   762400.      ,\n",
       "         589950.      ,   225000.      ,   339000.      ,   479000.      ,\n",
       "         475000.      ,   326500.      ,  1532500.      ,   365000.      ,\n",
       "         450800.      ,   452500.      ,   608000.      ,   420000.      ,\n",
       "         405500.      ,   290000.      ,   710000.      ,   625000.      ,\n",
       "         665000.      ,   257500.      ,   371000.      ,   505000.      ,\n",
       "         647500.      ,  1054690.      ,   527550.      ,   380000.      ,\n",
       "         315000.      ,   210000.      ,   168000.      ,   530000.      ,\n",
       "         525000.      ,   527000.      ,   379950.      ,  1450000.      ,\n",
       "         201500.      ,   285000.      ,  1225000.      ,   329950.      ,\n",
       "         489950.      ,   815000.      ,   359000.      ,   819900.      ,\n",
       "         980000.      ,   723000.      ,   735000.      ,   290256.      ,\n",
       "         515000.      ,   499000.      ,   455000.      ,   580000.      ,\n",
       "         641000.      ,   860000.      ,   772000.      ,   875000.      ,\n",
       "         530000.      ,   735000.      ,   250000.      ,   740000.      ,\n",
       "         588500.      ,  1320000.      ,   370000.      ,   197500.      ,\n",
       "         330000.      ,   615000.      ,   283200.      ,   612500.      ,\n",
       "        1160000.      ,   499500.      ,   625000.      ,   200000.      ,\n",
       "         485000.      ,   525000.      ,  1150000.      ,   484998.      ,\n",
       "         687500.      ,   490000.      ,   210000.      ,   280000.      ,\n",
       "         542500.      ,   294700.      ,   355000.      ,   152000.      ,\n",
       "         910000.      ,   415000.      ,   712000.      ,   875000.      ,\n",
       "         540000.      ,   735000.      ,   724800.      ,   590300.      ,\n",
       "         288400.      ,   570000.      ,   490000.      ,   530000.      ,\n",
       "         375000.      ,   669000.      ,  1300000.      ,   890000.      ,\n",
       "         300000.      ,   671000.      ,   812000.      ,   487028.      ,\n",
       "         285000.      ,   375000.      ,   899000.      ,   405000.      ,\n",
       "         712000.      ,   359950.      ,   690500.      ,   735000.      ,\n",
       "        1325000.      ,  1100000.      ,   910000.      ,   209950.      ,\n",
       "         550000.      ,   451000.      ,   695000.      ,   405000.      ,\n",
       "         385000.      ,   384400.      ,   519000.      ,   695000.      ,\n",
       "        1220000.      ,   331950.      ,   885000.      ,   282000.      ,\n",
       "         315000.      ,   255000.      ,   960000.      ,   875000.      ,\n",
       "         410000.      ,   263900.      ,   210000.      ,   397000.      ,\n",
       "         500000.      ,   455000.      ,   520000.      ,   405000.      ,\n",
       "         482000.      ,   635200.      ,   469000.      ,   645000.      ,\n",
       "         419000.      ,   985000.      ,   391400.      ,   180000.      ,\n",
       "         584000.      ,   435000.      , 26590000.      ,   337500.      ,\n",
       "         385000.      ,   268971.875   ,  2280000.      ,   255000.      ,\n",
       "         790000.      ,   410000.      ,   772650.      ,   849900.      ,\n",
       "        1225000.      ,   810000.      ,   705000.      ,   799000.      ,\n",
       "         306000.      ,   265000.      ,   365000.      ,   688000.      ,\n",
       "         234950.      ,   440000.      ,   330000.      ,   320000.      ,\n",
       "         232603.      ,   433111.111111])"
      ]
     },
     "execution_count": 56,
     "metadata": {},
     "output_type": "execute_result"
    }
   ],
   "source": [
    "y_pred"
   ]
  },
  {
   "cell_type": "code",
   "execution_count": 57,
   "metadata": {
    "execution": {
     "iopub.execute_input": "2020-11-14T12:27:02.824919Z",
     "iopub.status.busy": "2020-11-14T12:27:02.823899Z",
     "iopub.status.idle": "2020-11-14T12:27:02.828850Z",
     "shell.execute_reply": "2020-11-14T12:27:02.828254Z"
    },
    "papermill": {
     "duration": 0.132509,
     "end_time": "2020-11-14T12:27:02.828979",
     "exception": false,
     "start_time": "2020-11-14T12:27:02.696470",
     "status": "completed"
    },
    "tags": []
   },
   "outputs": [
    {
     "data": {
      "text/plain": [
       "1.1700303272139812e-10"
      ]
     },
     "execution_count": 57,
     "metadata": {},
     "output_type": "execute_result"
    }
   ],
   "source": [
    "y_pred_test = lin_reg.predict(X_test)\n",
    "mse = mean_squared_error(y_pred_test, y_test)\n",
    "rmse = np.sqrt(mse)\n",
    "rmse"
   ]
  },
  {
   "cell_type": "code",
   "execution_count": 58,
   "metadata": {
    "execution": {
     "iopub.execute_input": "2020-11-14T12:27:03.078474Z",
     "iopub.status.busy": "2020-11-14T12:27:03.077624Z",
     "iopub.status.idle": "2020-11-14T12:27:03.082027Z",
     "shell.execute_reply": "2020-11-14T12:27:03.081351Z"
    },
    "papermill": {
     "duration": 0.133291,
     "end_time": "2020-11-14T12:27:03.082173",
     "exception": false,
     "start_time": "2020-11-14T12:27:02.948882",
     "status": "completed"
    },
    "tags": []
   },
   "outputs": [
    {
     "data": {
      "text/plain": [
       "1.0"
      ]
     },
     "execution_count": 58,
     "metadata": {},
     "output_type": "execute_result"
    }
   ],
   "source": [
    "lin_reg.score(X_test, y_test)"
   ]
  },
  {
   "cell_type": "code",
   "execution_count": 59,
   "metadata": {
    "execution": {
     "iopub.execute_input": "2020-11-14T12:27:03.330182Z",
     "iopub.status.busy": "2020-11-14T12:27:03.329186Z",
     "iopub.status.idle": "2020-11-14T12:27:03.333721Z",
     "shell.execute_reply": "2020-11-14T12:27:03.333013Z"
    },
    "papermill": {
     "duration": 0.130968,
     "end_time": "2020-11-14T12:27:03.333854",
     "exception": false,
     "start_time": "2020-11-14T12:27:03.202886",
     "status": "completed"
    },
    "tags": []
   },
   "outputs": [
    {
     "data": {
      "text/plain": [
       "3454    450000.0\n",
       "3857    300000.0\n",
       "1818    174500.0\n",
       "856     215000.0\n",
       "1001    430000.0\n",
       "          ...   \n",
       "3760    392000.0\n",
       "2596    650000.0\n",
       "1839    327500.0\n",
       "1835    320000.0\n",
       "787     317000.0\n",
       "Name: price, Length: 230, dtype: float64"
      ]
     },
     "execution_count": 59,
     "metadata": {},
     "output_type": "execute_result"
    }
   ],
   "source": [
    "y_test"
   ]
  },
  {
   "cell_type": "code",
   "execution_count": 60,
   "metadata": {
    "execution": {
     "iopub.execute_input": "2020-11-14T12:27:03.582732Z",
     "iopub.status.busy": "2020-11-14T12:27:03.581804Z",
     "iopub.status.idle": "2020-11-14T12:27:03.586360Z",
     "shell.execute_reply": "2020-11-14T12:27:03.585809Z"
    },
    "papermill": {
     "duration": 0.132633,
     "end_time": "2020-11-14T12:27:03.586481",
     "exception": false,
     "start_time": "2020-11-14T12:27:03.453848",
     "status": "completed"
    },
    "tags": []
   },
   "outputs": [
    {
     "data": {
      "text/plain": [
       "array([ 450000.      ,  300000.      ,  174500.      ,  215000.      ,\n",
       "        430000.      ,  421000.      ,  280000.      ,  380000.      ,\n",
       "        260000.      ,  453500.      ,  299950.      ,  326983.333333,\n",
       "        440000.      ,  270000.      ,  869000.      ,  681716.      ,\n",
       "        100000.      ,  331366.666667,  540000.      ,  280000.      ,\n",
       "        399500.      ,  330000.      ,  399950.      ,  250600.      ,\n",
       "        640000.      ,  530000.      ,  395000.      ,  615000.      ,\n",
       "        840000.      ,  805000.      ,  381000.      ,  625000.      ,\n",
       "        624800.      ,  870000.      ,  315000.      ,  375000.      ,\n",
       "        810000.      ,  660000.      , 1080000.      ,  274950.      ,\n",
       "        440000.      ,  510000.      ,  386380.      ,  510000.      ,\n",
       "        282508.888889,  860000.      ,  443000.      ,  459500.      ,\n",
       "        545000.      ,  623000.      ,  211000.      ,  590000.      ,\n",
       "        735000.      ,  275000.      ,  747500.      ,  630000.      ,\n",
       "        345000.      ,  300000.      , 1228000.      ,  825500.      ,\n",
       "        333000.      ,  540000.      ,  320000.      ,  276900.      ,\n",
       "        751000.      ,  345000.      ,  459950.      ,  540000.      ,\n",
       "        310000.      ,  465000.      ,  840000.      ,  535000.      ,\n",
       "        763101.      ,  337000.      , 1405000.      ,  715000.      ,\n",
       "        535000.      ,  395000.      , 2351956.      ,  369000.      ,\n",
       "        235000.      ,  370000.      ,  592500.      ,  350000.      ,\n",
       "       1150000.      ,  672500.      ,  500000.      ,  367500.      ,\n",
       "        500000.      ,  475000.      ,  471000.      ,  335000.      ,\n",
       "        785000.      ,  395000.      ,  459000.      ,  260000.      ,\n",
       "        675000.      ,  320000.      ,  300000.      ,   83300.      ,\n",
       "        550000.      ,  310000.      ,  450000.      ,  247875.      ,\n",
       "        750000.      ,  419190.      ,  430000.      ,  285000.      ,\n",
       "        425000.      ,  176225.      ,  579000.      ,  245000.      ,\n",
       "        582000.      ,  775000.      ,  215000.      ,  543200.      ,\n",
       "       1058000.      ,  259950.      ,  341000.      ,  330000.      ,\n",
       "        585000.      ,  259000.      ,  534333.333333,  315000.      ,\n",
       "        429000.      ,  947500.      ,  330000.      ,  515000.      ,\n",
       "        285000.      ,  430000.      ,  235000.      ,  949880.      ,\n",
       "       1925000.      ,  160000.      ,  505000.      ,  315000.      ,\n",
       "        240000.      ,  645325.      ,  471000.      ,  397500.      ,\n",
       "        329445.      ,  285000.      , 1600000.      ,  499000.      ,\n",
       "        515500.      ,  418000.      ,  235000.      ,  250000.      ,\n",
       "        350000.      ,  460000.      ,  413500.      ,  220600.      ,\n",
       "        230000.      ,  396500.      ,  309000.      ,  442000.      ,\n",
       "        325000.      , 1150000.      ,  790000.      ,  399950.      ,\n",
       "        365000.      ,  351999.      ,  432000.      ,  895000.      ,\n",
       "        360000.      ,  239950.      ,  435000.      ,  269950.      ,\n",
       "        530000.      ,  737500.      ,  314950.      ,  655000.      ,\n",
       "        936000.      , 1010000.      ,  551000.      ,  246500.      ,\n",
       "        439000.      ,  700000.      ,  605000.      ,  402500.      ,\n",
       "        470000.      , 1800000.      ,  400000.      ,  851000.      ,\n",
       "        538888.      ,  770000.      , 1030000.      ,  875000.      ,\n",
       "        460000.      ,  736500.      ,  589500.      ,  366750.      ,\n",
       "        299000.      , 3800000.      ,  385000.      ,  675000.      ,\n",
       "        193000.      ,  850000.      ,  386000.      ,  860000.      ,\n",
       "        615000.      ,  305000.      ,  258000.      ,  230000.      ,\n",
       "        350000.      ,  210000.      ,  749995.      ,  380000.      ,\n",
       "       1105000.      ,  320000.      ,  480000.      ,  486445.833333,\n",
       "        375000.      ,  400000.      ,  549900.      ,  312000.      ,\n",
       "        650880.      ,  385000.      ,  735000.      ,  392500.      ,\n",
       "        682000.      ,  367500.      ,  343000.      ,  433000.      ,\n",
       "        577000.      ,  392000.      ,  650000.      ,  327500.      ,\n",
       "        320000.      ,  317000.      ])"
      ]
     },
     "execution_count": 60,
     "metadata": {},
     "output_type": "execute_result"
    }
   ],
   "source": [
    "y_pred_test"
   ]
  },
  {
   "cell_type": "markdown",
   "metadata": {
    "papermill": {
     "duration": 0.119129,
     "end_time": "2020-11-14T12:27:03.824761",
     "exception": false,
     "start_time": "2020-11-14T12:27:03.705632",
     "status": "completed"
    },
    "tags": []
   },
   "source": [
    "# Decision tree regression"
   ]
  },
  {
   "cell_type": "code",
   "execution_count": 61,
   "metadata": {
    "execution": {
     "iopub.execute_input": "2020-11-14T12:27:04.075934Z",
     "iopub.status.busy": "2020-11-14T12:27:04.075153Z",
     "iopub.status.idle": "2020-11-14T12:27:04.174577Z",
     "shell.execute_reply": "2020-11-14T12:27:04.173793Z"
    },
    "papermill": {
     "duration": 0.229017,
     "end_time": "2020-11-14T12:27:04.174722",
     "exception": false,
     "start_time": "2020-11-14T12:27:03.945705",
     "status": "completed"
    },
    "tags": []
   },
   "outputs": [],
   "source": [
    "from sklearn.tree import DecisionTreeRegressor\n",
    "\n",
    "reg = DecisionTreeRegressor(random_state = 42, max_depth = 10)"
   ]
  },
  {
   "cell_type": "code",
   "execution_count": 62,
   "metadata": {
    "execution": {
     "iopub.execute_input": "2020-11-14T12:27:04.423433Z",
     "iopub.status.busy": "2020-11-14T12:27:04.422679Z",
     "iopub.status.idle": "2020-11-14T12:27:04.467253Z",
     "shell.execute_reply": "2020-11-14T12:27:04.466520Z"
    },
    "papermill": {
     "duration": 0.172649,
     "end_time": "2020-11-14T12:27:04.467374",
     "exception": false,
     "start_time": "2020-11-14T12:27:04.294725",
     "status": "completed"
    },
    "tags": []
   },
   "outputs": [
    {
     "data": {
      "text/plain": [
       "DecisionTreeRegressor(max_depth=10, random_state=42)"
      ]
     },
     "execution_count": 62,
     "metadata": {},
     "output_type": "execute_result"
    }
   ],
   "source": [
    "reg.fit(X_train, y_train)"
   ]
  },
  {
   "cell_type": "markdown",
   "metadata": {
    "papermill": {
     "duration": 0.119941,
     "end_time": "2020-11-14T12:27:04.707881",
     "exception": false,
     "start_time": "2020-11-14T12:27:04.587940",
     "status": "completed"
    },
    "tags": []
   },
   "source": [
    "Predict"
   ]
  },
  {
   "cell_type": "code",
   "execution_count": 63,
   "metadata": {
    "execution": {
     "iopub.execute_input": "2020-11-14T12:27:04.958496Z",
     "iopub.status.busy": "2020-11-14T12:27:04.957209Z",
     "iopub.status.idle": "2020-11-14T12:27:04.962811Z",
     "shell.execute_reply": "2020-11-14T12:27:04.962082Z"
    },
    "papermill": {
     "duration": 0.134895,
     "end_time": "2020-11-14T12:27:04.962934",
     "exception": false,
     "start_time": "2020-11-14T12:27:04.828039",
     "status": "completed"
    },
    "tags": []
   },
   "outputs": [
    {
     "data": {
      "text/plain": [
       "0.9997242025740952"
      ]
     },
     "execution_count": 63,
     "metadata": {},
     "output_type": "execute_result"
    }
   ],
   "source": [
    "reg.score(X_test, y_test)"
   ]
  },
  {
   "cell_type": "code",
   "execution_count": 64,
   "metadata": {
    "execution": {
     "iopub.execute_input": "2020-11-14T12:27:05.216631Z",
     "iopub.status.busy": "2020-11-14T12:27:05.215431Z",
     "iopub.status.idle": "2020-11-14T12:27:05.219984Z",
     "shell.execute_reply": "2020-11-14T12:27:05.219283Z"
    },
    "papermill": {
     "duration": 0.135369,
     "end_time": "2020-11-14T12:27:05.220179",
     "exception": false,
     "start_time": "2020-11-14T12:27:05.084810",
     "status": "completed"
    },
    "tags": []
   },
   "outputs": [
    {
     "data": {
      "text/plain": [
       "1073    175000.0\n",
       "4524    950100.0\n",
       "4434    309487.5\n",
       "2572    427000.0\n",
       "4310    375000.0\n",
       "4017    665000.0\n",
       "4241    759000.0\n",
       "3139    425000.0\n",
       "2283    325000.0\n",
       "4200    679000.0\n",
       "Name: price, dtype: float64"
      ]
     },
     "execution_count": 64,
     "metadata": {},
     "output_type": "execute_result"
    }
   ],
   "source": [
    "y_val.head(10)"
   ]
  },
  {
   "cell_type": "code",
   "execution_count": 65,
   "metadata": {
    "execution": {
     "iopub.execute_input": "2020-11-14T12:27:05.468570Z",
     "iopub.status.busy": "2020-11-14T12:27:05.467821Z",
     "iopub.status.idle": "2020-11-14T12:27:05.552252Z",
     "shell.execute_reply": "2020-11-14T12:27:05.551482Z"
    },
    "papermill": {
     "duration": 0.210298,
     "end_time": "2020-11-14T12:27:05.552378",
     "exception": false,
     "start_time": "2020-11-14T12:27:05.342080",
     "status": "completed"
    },
    "tags": []
   },
   "outputs": [
    {
     "ename": "NameError",
     "evalue": "name 'y_pred_dt' is not defined",
     "output_type": "error",
     "traceback": [
      "\u001b[0;31m---------------------------------------------------------------------------\u001b[0m",
      "\u001b[0;31mNameError\u001b[0m                                 Traceback (most recent call last)",
      "\u001b[0;32m<ipython-input-65-d14516960943>\u001b[0m in \u001b[0;36m<module>\u001b[0;34m\u001b[0m\n\u001b[0;32m----> 1\u001b[0;31m \u001b[0my_pred_dt\u001b[0m\u001b[0;34m\u001b[0m\u001b[0;34m\u001b[0m\u001b[0m\n\u001b[0m",
      "\u001b[0;31mNameError\u001b[0m: name 'y_pred_dt' is not defined"
     ]
    }
   ],
   "source": [
    "y_pred_dt"
   ]
  },
  {
   "cell_type": "code",
   "execution_count": null,
   "metadata": {
    "papermill": {
     "duration": 0.122211,
     "end_time": "2020-11-14T12:27:05.798724",
     "exception": false,
     "start_time": "2020-11-14T12:27:05.676513",
     "status": "completed"
    },
    "tags": []
   },
   "outputs": [],
   "source": []
  }
 ],
 "metadata": {
  "kernelspec": {
   "display_name": "Python 3",
   "language": "python",
   "name": "python3"
  },
  "language_info": {
   "codemirror_mode": {
    "name": "ipython",
    "version": 3
   },
   "file_extension": ".py",
   "mimetype": "text/x-python",
   "name": "python",
   "nbconvert_exporter": "python",
   "pygments_lexer": "ipython3",
   "version": "3.7.6"
  },
  "papermill": {
   "duration": 40.313966,
   "end_time": "2020-11-14T12:27:06.030839",
   "environment_variables": {},
   "exception": null,
   "input_path": "__notebook__.ipynb",
   "output_path": "__notebook__.ipynb",
   "parameters": {},
   "start_time": "2020-11-14T12:26:25.716873",
   "version": "2.1.0"
  }
 },
 "nbformat": 4,
 "nbformat_minor": 4
}
